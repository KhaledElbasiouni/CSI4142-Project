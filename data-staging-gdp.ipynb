{
 "cells": [
  {
   "cell_type": "code",
   "execution_count": null,
   "id": "971b19af",
   "metadata": {},
   "outputs": [],
   "source": [
    "# Data Staging for GDP Data"
   ]
  },
  {
   "cell_type": "code",
   "execution_count": null,
   "id": "15b50f4f",
   "metadata": {},
   "outputs": [],
   "source": [
    "## Importing Libraries and Reading the Data"
   ]
  },
  {
   "cell_type": "code",
   "execution_count": 248,
   "id": "86e7fd8b",
   "metadata": {},
   "outputs": [],
   "source": [
    "import pandas as pd"
   ]
  },
  {
   "cell_type": "code",
   "execution_count": 249,
   "id": "39716361",
   "metadata": {},
   "outputs": [],
   "source": [
    "df = pd.read_csv('data/gdp.csv')"
   ]
  },
  {
   "cell_type": "code",
   "execution_count": null,
   "id": "13becbfc",
   "metadata": {},
   "outputs": [],
   "source": [
    "## Previewing the Dataset"
   ]
  },
  {
   "cell_type": "code",
   "execution_count": 250,
   "id": "d5ce1b0c",
   "metadata": {},
   "outputs": [
    {
     "data": {
      "text/html": [
       "<div>\n",
       "<style scoped>\n",
       "    .dataframe tbody tr th:only-of-type {\n",
       "        vertical-align: middle;\n",
       "    }\n",
       "\n",
       "    .dataframe tbody tr th {\n",
       "        vertical-align: top;\n",
       "    }\n",
       "\n",
       "    .dataframe thead th {\n",
       "        text-align: right;\n",
       "    }\n",
       "</style>\n",
       "<table border=\"1\" class=\"dataframe\">\n",
       "  <thead>\n",
       "    <tr style=\"text-align: right;\">\n",
       "      <th></th>\n",
       "      <th>REF_DATE</th>\n",
       "      <th>GEO</th>\n",
       "      <th>DGUID</th>\n",
       "      <th>North American Industry Classification System (NAICS)</th>\n",
       "      <th>UOM</th>\n",
       "      <th>UOM_ID</th>\n",
       "      <th>SCALAR_FACTOR</th>\n",
       "      <th>SCALAR_ID</th>\n",
       "      <th>VECTOR</th>\n",
       "      <th>COORDINATE</th>\n",
       "      <th>VALUE</th>\n",
       "      <th>STATUS</th>\n",
       "      <th>SYMBOL</th>\n",
       "      <th>TERMINATED</th>\n",
       "      <th>DECIMALS</th>\n",
       "    </tr>\n",
       "  </thead>\n",
       "  <tbody>\n",
       "    <tr>\n",
       "      <th>0</th>\n",
       "      <td>1997</td>\n",
       "      <td>Canada</td>\n",
       "      <td>2016A000011124</td>\n",
       "      <td>All industries [T001]</td>\n",
       "      <td>Dollars</td>\n",
       "      <td>81</td>\n",
       "      <td>millions</td>\n",
       "      <td>6</td>\n",
       "      <td>v64605602</td>\n",
       "      <td>1.1</td>\n",
       "      <td>840500</td>\n",
       "      <td>NaN</td>\n",
       "      <td>NaN</td>\n",
       "      <td>NaN</td>\n",
       "      <td>0</td>\n",
       "    </tr>\n",
       "    <tr>\n",
       "      <th>1</th>\n",
       "      <td>1997</td>\n",
       "      <td>Canada</td>\n",
       "      <td>2016A000011124</td>\n",
       "      <td>Goods-producing industries [T002]</td>\n",
       "      <td>Dollars</td>\n",
       "      <td>81</td>\n",
       "      <td>millions</td>\n",
       "      <td>6</td>\n",
       "      <td>v64605713</td>\n",
       "      <td>1.2</td>\n",
       "      <td>269364</td>\n",
       "      <td>NaN</td>\n",
       "      <td>NaN</td>\n",
       "      <td>NaN</td>\n",
       "      <td>0</td>\n",
       "    </tr>\n",
       "    <tr>\n",
       "      <th>2</th>\n",
       "      <td>1997</td>\n",
       "      <td>Canada</td>\n",
       "      <td>2016A000011124</td>\n",
       "      <td>Service-producing industries [T003]</td>\n",
       "      <td>Dollars</td>\n",
       "      <td>81</td>\n",
       "      <td>millions</td>\n",
       "      <td>6</td>\n",
       "      <td>v64605824</td>\n",
       "      <td>1.3</td>\n",
       "      <td>571136</td>\n",
       "      <td>NaN</td>\n",
       "      <td>NaN</td>\n",
       "      <td>NaN</td>\n",
       "      <td>0</td>\n",
       "    </tr>\n",
       "    <tr>\n",
       "      <th>3</th>\n",
       "      <td>1997</td>\n",
       "      <td>Canada</td>\n",
       "      <td>2016A000011124</td>\n",
       "      <td>Industrial production [T010]</td>\n",
       "      <td>Dollars</td>\n",
       "      <td>81</td>\n",
       "      <td>millions</td>\n",
       "      <td>6</td>\n",
       "      <td>v64605841</td>\n",
       "      <td>1.4</td>\n",
       "      <td>205651</td>\n",
       "      <td>NaN</td>\n",
       "      <td>NaN</td>\n",
       "      <td>NaN</td>\n",
       "      <td>0</td>\n",
       "    </tr>\n",
       "    <tr>\n",
       "      <th>4</th>\n",
       "      <td>1997</td>\n",
       "      <td>Canada</td>\n",
       "      <td>2016A000011124</td>\n",
       "      <td>Non-durable manufacturing industries [T011]</td>\n",
       "      <td>Dollars</td>\n",
       "      <td>81</td>\n",
       "      <td>millions</td>\n",
       "      <td>6</td>\n",
       "      <td>v64605852</td>\n",
       "      <td>1.5</td>\n",
       "      <td>60046</td>\n",
       "      <td>NaN</td>\n",
       "      <td>NaN</td>\n",
       "      <td>NaN</td>\n",
       "      <td>0</td>\n",
       "    </tr>\n",
       "  </tbody>\n",
       "</table>\n",
       "</div>"
      ],
      "text/plain": [
       "   REF_DATE     GEO           DGUID  \\\n",
       "0      1997  Canada  2016A000011124   \n",
       "1      1997  Canada  2016A000011124   \n",
       "2      1997  Canada  2016A000011124   \n",
       "3      1997  Canada  2016A000011124   \n",
       "4      1997  Canada  2016A000011124   \n",
       "\n",
       "  North American Industry Classification System (NAICS)      UOM  UOM_ID  \\\n",
       "0                              All industries [T001]     Dollars      81   \n",
       "1                  Goods-producing industries [T002]     Dollars      81   \n",
       "2                Service-producing industries [T003]     Dollars      81   \n",
       "3                       Industrial production [T010]     Dollars      81   \n",
       "4        Non-durable manufacturing industries [T011]     Dollars      81   \n",
       "\n",
       "  SCALAR_FACTOR  SCALAR_ID     VECTOR  COORDINATE   VALUE  STATUS  SYMBOL  \\\n",
       "0      millions          6  v64605602         1.1  840500     NaN     NaN   \n",
       "1      millions          6  v64605713         1.2  269364     NaN     NaN   \n",
       "2      millions          6  v64605824         1.3  571136     NaN     NaN   \n",
       "3      millions          6  v64605841         1.4  205651     NaN     NaN   \n",
       "4      millions          6  v64605852         1.5   60046     NaN     NaN   \n",
       "\n",
       "   TERMINATED  DECIMALS  \n",
       "0         NaN         0  \n",
       "1         NaN         0  \n",
       "2         NaN         0  \n",
       "3         NaN         0  \n",
       "4         NaN         0  "
      ]
     },
     "execution_count": 250,
     "metadata": {},
     "output_type": "execute_result"
    }
   ],
   "source": [
    "df.head()"
   ]
  },
  {
   "cell_type": "code",
   "execution_count": null,
   "id": "5bf4747a",
   "metadata": {},
   "outputs": [],
   "source": [
    "## Unique Values in Each Column"
   ]
  },
  {
   "cell_type": "code",
   "execution_count": 251,
   "id": "bb70213b",
   "metadata": {},
   "outputs": [
    {
     "data": {
      "text/plain": [
       "GEO                                                       [Canada]\n",
       "DGUID                                             [2016A000011124]\n",
       "UOM                                                      [Dollars]\n",
       "UOM_ID                                                        [81]\n",
       "SCALAR_FACTOR                                           [millions]\n",
       "SCALAR_ID                                                      [6]\n",
       "VECTOR           [v64605602, v64605713, v64605824, v64605841, v...\n",
       "COORDINATE       [1.1, 1.2, 1.3, 1.4, 1.5, 1.6, 1.7, 1.8, 1.9, ...\n",
       "VALUE            [840500, 269364, 571136, 205651, 60046, 85467,...\n",
       "STATUS                                                       [nan]\n",
       "SYMBOL                                                       [nan]\n",
       "TERMINATED                                                   [nan]\n",
       "DECIMALS                                                       [0]\n",
       "dtype: object"
      ]
     },
     "execution_count": 251,
     "metadata": {},
     "output_type": "execute_result"
    }
   ],
   "source": [
    "unique_values = df[['GEO', 'DGUID', 'UOM', 'UOM_ID','SCALAR_FACTOR', 'SCALAR_ID', 'VECTOR' , 'COORDINATE', 'VALUE', 'STATUS', 'SYMBOL', 'TERMINATED', 'DECIMALS']].apply(lambda x: x.unique())\n",
    "unique_values"
   ]
  },
  {
   "cell_type": "code",
   "execution_count": null,
   "id": "2b68b2f5",
   "metadata": {},
   "outputs": [],
   "source": [
    "## Dropping Unnecessary Columns"
   ]
  },
  {
   "cell_type": "code",
   "execution_count": 252,
   "id": "7ac983c9",
   "metadata": {},
   "outputs": [],
   "source": [
    "df = df.drop(columns=['GEO', 'DGUID', 'UOM', 'UOM_ID', 'SCALAR_FACTOR',  'SCALAR_ID', 'VECTOR', 'COORDINATE', 'STATUS', 'SYMBOL', 'SYMBOL', 'TERMINATED', 'DECIMALS'])"
   ]
  },
  {
   "cell_type": "code",
   "execution_count": 253,
   "id": "c8941f5a",
   "metadata": {},
   "outputs": [
    {
     "data": {
      "text/html": [
       "<div>\n",
       "<style scoped>\n",
       "    .dataframe tbody tr th:only-of-type {\n",
       "        vertical-align: middle;\n",
       "    }\n",
       "\n",
       "    .dataframe tbody tr th {\n",
       "        vertical-align: top;\n",
       "    }\n",
       "\n",
       "    .dataframe thead th {\n",
       "        text-align: right;\n",
       "    }\n",
       "</style>\n",
       "<table border=\"1\" class=\"dataframe\">\n",
       "  <thead>\n",
       "    <tr style=\"text-align: right;\">\n",
       "      <th></th>\n",
       "      <th>REF_DATE</th>\n",
       "      <th>North American Industry Classification System (NAICS)</th>\n",
       "      <th>VALUE</th>\n",
       "    </tr>\n",
       "  </thead>\n",
       "  <tbody>\n",
       "    <tr>\n",
       "      <th>0</th>\n",
       "      <td>1997</td>\n",
       "      <td>All industries [T001]</td>\n",
       "      <td>840500</td>\n",
       "    </tr>\n",
       "    <tr>\n",
       "      <th>1</th>\n",
       "      <td>1997</td>\n",
       "      <td>Goods-producing industries [T002]</td>\n",
       "      <td>269364</td>\n",
       "    </tr>\n",
       "    <tr>\n",
       "      <th>2</th>\n",
       "      <td>1997</td>\n",
       "      <td>Service-producing industries [T003]</td>\n",
       "      <td>571136</td>\n",
       "    </tr>\n",
       "    <tr>\n",
       "      <th>3</th>\n",
       "      <td>1997</td>\n",
       "      <td>Industrial production [T010]</td>\n",
       "      <td>205651</td>\n",
       "    </tr>\n",
       "    <tr>\n",
       "      <th>4</th>\n",
       "      <td>1997</td>\n",
       "      <td>Non-durable manufacturing industries [T011]</td>\n",
       "      <td>60046</td>\n",
       "    </tr>\n",
       "  </tbody>\n",
       "</table>\n",
       "</div>"
      ],
      "text/plain": [
       "   REF_DATE North American Industry Classification System (NAICS)   VALUE\n",
       "0      1997                              All industries [T001]     840500\n",
       "1      1997                  Goods-producing industries [T002]     269364\n",
       "2      1997                Service-producing industries [T003]     571136\n",
       "3      1997                       Industrial production [T010]     205651\n",
       "4      1997        Non-durable manufacturing industries [T011]      60046"
      ]
     },
     "execution_count": 253,
     "metadata": {},
     "output_type": "execute_result"
    }
   ],
   "source": [
    "df.head()"
   ]
  },
  {
   "cell_type": "code",
   "execution_count": null,
   "id": "2d03e3b6",
   "metadata": {},
   "outputs": [],
   "source": [
    "## Examining Data Types"
   ]
  },
  {
   "cell_type": "code",
   "execution_count": 254,
   "id": "f48c9c77",
   "metadata": {},
   "outputs": [
    {
     "data": {
      "text/plain": [
       "REF_DATE                                                  int64\n",
       "North American Industry Classification System (NAICS)    object\n",
       "VALUE                                                     int64\n",
       "dtype: object"
      ]
     },
     "execution_count": 254,
     "metadata": {},
     "output_type": "execute_result"
    }
   ],
   "source": [
    "df.dtypes"
   ]
  },
  {
   "cell_type": "code",
   "execution_count": null,
   "id": "fb338bbb",
   "metadata": {},
   "outputs": [],
   "source": [
    "## Renaming Columns for Clarity and Simplicity"
   ]
  },
  {
   "cell_type": "code",
   "execution_count": 255,
   "id": "29b8162e",
   "metadata": {},
   "outputs": [],
   "source": [
    "df = df.rename(columns={'REF_DATE': 'Date', 'North American Industry Classification System (NAICS)': 'NAICS'})"
   ]
  },
  {
   "cell_type": "code",
   "execution_count": 256,
   "id": "04d4e41f",
   "metadata": {},
   "outputs": [
    {
     "data": {
      "text/html": [
       "<div>\n",
       "<style scoped>\n",
       "    .dataframe tbody tr th:only-of-type {\n",
       "        vertical-align: middle;\n",
       "    }\n",
       "\n",
       "    .dataframe tbody tr th {\n",
       "        vertical-align: top;\n",
       "    }\n",
       "\n",
       "    .dataframe thead th {\n",
       "        text-align: right;\n",
       "    }\n",
       "</style>\n",
       "<table border=\"1\" class=\"dataframe\">\n",
       "  <thead>\n",
       "    <tr style=\"text-align: right;\">\n",
       "      <th></th>\n",
       "      <th>Date</th>\n",
       "      <th>NAICS</th>\n",
       "      <th>VALUE</th>\n",
       "    </tr>\n",
       "  </thead>\n",
       "  <tbody>\n",
       "    <tr>\n",
       "      <th>0</th>\n",
       "      <td>1997</td>\n",
       "      <td>All industries [T001]</td>\n",
       "      <td>840500</td>\n",
       "    </tr>\n",
       "    <tr>\n",
       "      <th>1</th>\n",
       "      <td>1997</td>\n",
       "      <td>Goods-producing industries [T002]</td>\n",
       "      <td>269364</td>\n",
       "    </tr>\n",
       "    <tr>\n",
       "      <th>2</th>\n",
       "      <td>1997</td>\n",
       "      <td>Service-producing industries [T003]</td>\n",
       "      <td>571136</td>\n",
       "    </tr>\n",
       "    <tr>\n",
       "      <th>3</th>\n",
       "      <td>1997</td>\n",
       "      <td>Industrial production [T010]</td>\n",
       "      <td>205651</td>\n",
       "    </tr>\n",
       "    <tr>\n",
       "      <th>4</th>\n",
       "      <td>1997</td>\n",
       "      <td>Non-durable manufacturing industries [T011]</td>\n",
       "      <td>60046</td>\n",
       "    </tr>\n",
       "  </tbody>\n",
       "</table>\n",
       "</div>"
      ],
      "text/plain": [
       "   Date                                        NAICS   VALUE\n",
       "0  1997                        All industries [T001]  840500\n",
       "1  1997            Goods-producing industries [T002]  269364\n",
       "2  1997          Service-producing industries [T003]  571136\n",
       "3  1997                 Industrial production [T010]  205651\n",
       "4  1997  Non-durable manufacturing industries [T011]   60046"
      ]
     },
     "execution_count": 256,
     "metadata": {},
     "output_type": "execute_result"
    }
   ],
   "source": [
    "df.head()"
   ]
  },
  {
   "cell_type": "code",
   "execution_count": null,
   "id": "8a6982d2",
   "metadata": {},
   "outputs": [],
   "source": [
    "## Checking for Missing Values"
   ]
  },
  {
   "cell_type": "code",
   "execution_count": 266,
   "id": "a91822bd",
   "metadata": {},
   "outputs": [
    {
     "data": {
      "text/plain": [
       "array([False])"
      ]
     },
     "execution_count": 266,
     "metadata": {},
     "output_type": "execute_result"
    }
   ],
   "source": [
    "df['Date'].isnull().unique()"
   ]
  },
  {
   "cell_type": "code",
   "execution_count": 267,
   "id": "3ab7aa33",
   "metadata": {},
   "outputs": [
    {
     "data": {
      "text/plain": [
       "array([False])"
      ]
     },
     "execution_count": 267,
     "metadata": {},
     "output_type": "execute_result"
    }
   ],
   "source": [
    "df['NAICS'].isnull().unique()"
   ]
  },
  {
   "cell_type": "code",
   "execution_count": 268,
   "id": "d7ff00ef",
   "metadata": {},
   "outputs": [
    {
     "data": {
      "text/plain": [
       "array([False])"
      ]
     },
     "execution_count": 268,
     "metadata": {},
     "output_type": "execute_result"
    }
   ],
   "source": [
    "df['VALUE'].isnull().unique()"
   ]
  },
  {
   "cell_type": "code",
   "execution_count": null,
   "id": "0aa05595",
   "metadata": {},
   "outputs": [],
   "source": [
    "## Filtering Date to Start from 2000"
   ]
  },
  {
   "cell_type": "code",
   "execution_count": 261,
   "id": "f15719df",
   "metadata": {},
   "outputs": [],
   "source": [
    "df = df[df['Date'] >= 2000]"
   ]
  },
  {
   "cell_type": "code",
   "execution_count": 269,
   "id": "6a7b89d0",
   "metadata": {},
   "outputs": [
    {
     "data": {
      "text/html": [
       "<div>\n",
       "<style scoped>\n",
       "    .dataframe tbody tr th:only-of-type {\n",
       "        vertical-align: middle;\n",
       "    }\n",
       "\n",
       "    .dataframe tbody tr th {\n",
       "        vertical-align: top;\n",
       "    }\n",
       "\n",
       "    .dataframe thead th {\n",
       "        text-align: right;\n",
       "    }\n",
       "</style>\n",
       "<table border=\"1\" class=\"dataframe\">\n",
       "  <thead>\n",
       "    <tr style=\"text-align: right;\">\n",
       "      <th></th>\n",
       "      <th>Date</th>\n",
       "      <th>NAICS</th>\n",
       "      <th>VALUE</th>\n",
       "    </tr>\n",
       "  </thead>\n",
       "  <tbody>\n",
       "    <tr>\n",
       "      <th>1008</th>\n",
       "      <td>2000</td>\n",
       "      <td>All industries [T001]</td>\n",
       "      <td>1027444</td>\n",
       "    </tr>\n",
       "    <tr>\n",
       "      <th>1009</th>\n",
       "      <td>2000</td>\n",
       "      <td>Goods-producing industries [T002]</td>\n",
       "      <td>347862</td>\n",
       "    </tr>\n",
       "    <tr>\n",
       "      <th>1010</th>\n",
       "      <td>2000</td>\n",
       "      <td>Service-producing industries [T003]</td>\n",
       "      <td>679582</td>\n",
       "    </tr>\n",
       "    <tr>\n",
       "      <th>1011</th>\n",
       "      <td>2000</td>\n",
       "      <td>Industrial production [T010]</td>\n",
       "      <td>275215</td>\n",
       "    </tr>\n",
       "    <tr>\n",
       "      <th>1012</th>\n",
       "      <td>2000</td>\n",
       "      <td>Non-durable manufacturing industries [T011]</td>\n",
       "      <td>72315</td>\n",
       "    </tr>\n",
       "  </tbody>\n",
       "</table>\n",
       "</div>"
      ],
      "text/plain": [
       "      Date                                        NAICS    VALUE\n",
       "1008  2000                        All industries [T001]  1027444\n",
       "1009  2000            Goods-producing industries [T002]   347862\n",
       "1010  2000          Service-producing industries [T003]   679582\n",
       "1011  2000                 Industrial production [T010]   275215\n",
       "1012  2000  Non-durable manufacturing industries [T011]    72315"
      ]
     },
     "execution_count": 269,
     "metadata": {},
     "output_type": "execute_result"
    }
   ],
   "source": [
    "df.head()"
   ]
  },
  {
   "cell_type": "code",
   "execution_count": null,
   "id": "01610149",
   "metadata": {},
   "outputs": [],
   "source": [
    "## Reset indeces"
   ]
  },
  {
   "cell_type": "code",
   "execution_count": 270,
   "id": "63407ce9",
   "metadata": {},
   "outputs": [],
   "source": [
    "df.reset_index(drop=True, inplace=True)"
   ]
  },
  {
   "cell_type": "code",
   "execution_count": 273,
   "id": "ca8b4b00",
   "metadata": {},
   "outputs": [
    {
     "data": {
      "text/html": [
       "<div>\n",
       "<style scoped>\n",
       "    .dataframe tbody tr th:only-of-type {\n",
       "        vertical-align: middle;\n",
       "    }\n",
       "\n",
       "    .dataframe tbody tr th {\n",
       "        vertical-align: top;\n",
       "    }\n",
       "\n",
       "    .dataframe thead th {\n",
       "        text-align: right;\n",
       "    }\n",
       "</style>\n",
       "<table border=\"1\" class=\"dataframe\">\n",
       "  <thead>\n",
       "    <tr style=\"text-align: right;\">\n",
       "      <th></th>\n",
       "      <th>Date</th>\n",
       "      <th>NAICS</th>\n",
       "      <th>VALUE</th>\n",
       "    </tr>\n",
       "  </thead>\n",
       "  <tbody>\n",
       "    <tr>\n",
       "      <th>0</th>\n",
       "      <td>2000</td>\n",
       "      <td>All industries [T001]</td>\n",
       "      <td>1027444</td>\n",
       "    </tr>\n",
       "    <tr>\n",
       "      <th>1</th>\n",
       "      <td>2000</td>\n",
       "      <td>Goods-producing industries [T002]</td>\n",
       "      <td>347862</td>\n",
       "    </tr>\n",
       "    <tr>\n",
       "      <th>2</th>\n",
       "      <td>2000</td>\n",
       "      <td>Service-producing industries [T003]</td>\n",
       "      <td>679582</td>\n",
       "    </tr>\n",
       "    <tr>\n",
       "      <th>3</th>\n",
       "      <td>2000</td>\n",
       "      <td>Industrial production [T010]</td>\n",
       "      <td>275215</td>\n",
       "    </tr>\n",
       "    <tr>\n",
       "      <th>4</th>\n",
       "      <td>2000</td>\n",
       "      <td>Non-durable manufacturing industries [T011]</td>\n",
       "      <td>72315</td>\n",
       "    </tr>\n",
       "    <tr>\n",
       "      <th>...</th>\n",
       "      <td>...</td>\n",
       "      <td>...</td>\n",
       "      <td>...</td>\n",
       "    </tr>\n",
       "    <tr>\n",
       "      <th>7054</th>\n",
       "      <td>2020</td>\n",
       "      <td>Federal government public administration (exce...</td>\n",
       "      <td>42564</td>\n",
       "    </tr>\n",
       "    <tr>\n",
       "      <th>7055</th>\n",
       "      <td>2020</td>\n",
       "      <td>Provincial and territorial public administrati...</td>\n",
       "      <td>40664</td>\n",
       "    </tr>\n",
       "    <tr>\n",
       "      <th>7056</th>\n",
       "      <td>2020</td>\n",
       "      <td>Local, municipal, regional and aboriginal publ...</td>\n",
       "      <td>60291</td>\n",
       "    </tr>\n",
       "    <tr>\n",
       "      <th>7057</th>\n",
       "      <td>2020</td>\n",
       "      <td>Local, municipal and regional public administr...</td>\n",
       "      <td>54541</td>\n",
       "    </tr>\n",
       "    <tr>\n",
       "      <th>7058</th>\n",
       "      <td>2020</td>\n",
       "      <td>Aboriginal public administration [914]</td>\n",
       "      <td>5750</td>\n",
       "    </tr>\n",
       "  </tbody>\n",
       "</table>\n",
       "<p>7059 rows × 3 columns</p>\n",
       "</div>"
      ],
      "text/plain": [
       "      Date                                              NAICS    VALUE\n",
       "0     2000                              All industries [T001]  1027444\n",
       "1     2000                  Goods-producing industries [T002]   347862\n",
       "2     2000                Service-producing industries [T003]   679582\n",
       "3     2000                       Industrial production [T010]   275215\n",
       "4     2000        Non-durable manufacturing industries [T011]    72315\n",
       "...    ...                                                ...      ...\n",
       "7054  2020  Federal government public administration (exce...    42564\n",
       "7055  2020  Provincial and territorial public administrati...    40664\n",
       "7056  2020  Local, municipal, regional and aboriginal publ...    60291\n",
       "7057  2020  Local, municipal and regional public administr...    54541\n",
       "7058  2020             Aboriginal public administration [914]     5750\n",
       "\n",
       "[7059 rows x 3 columns]"
      ]
     },
     "execution_count": 273,
     "metadata": {},
     "output_type": "execute_result"
    }
   ],
   "source": [
    "df"
   ]
  }
 ],
 "metadata": {
  "kernelspec": {
   "display_name": "Python 3 (ipykernel)",
   "language": "python",
   "name": "python3"
  },
  "language_info": {
   "codemirror_mode": {
    "name": "ipython",
    "version": 3
   },
   "file_extension": ".py",
   "mimetype": "text/x-python",
   "name": "python",
   "nbconvert_exporter": "python",
   "pygments_lexer": "ipython3",
   "version": "3.9.13"
  }
 },
 "nbformat": 4,
 "nbformat_minor": 5
}
