{
 "cells": [
  {
   "cell_type": "markdown",
   "id": "746c509a",
   "metadata": {},
   "source": [
    "# Data Staging for GDP Data"
   ]
  },
  {
   "cell_type": "markdown",
   "id": "5e43f8f1",
   "metadata": {},
   "source": [
    "## Importing Libraries and Reading the Data"
   ]
  },
  {
   "cell_type": "code",
   "execution_count": 198,
   "id": "86e7fd8b",
   "metadata": {},
   "outputs": [],
   "source": [
    "import pandas as pd\n",
    "import numpy as np"
   ]
  },
  {
   "cell_type": "code",
   "execution_count": 199,
   "id": "39716361",
   "metadata": {},
   "outputs": [],
   "source": [
    "df = pd.read_csv('data/raw_gdp.csv')"
   ]
  },
  {
   "cell_type": "markdown",
   "id": "1192065d",
   "metadata": {},
   "source": [
    "## Previewing the Dataset"
   ]
  },
  {
   "cell_type": "code",
   "execution_count": 200,
   "id": "d5ce1b0c",
   "metadata": {},
   "outputs": [
    {
     "data": {
      "text/html": [
       "<div>\n",
       "<style scoped>\n",
       "    .dataframe tbody tr th:only-of-type {\n",
       "        vertical-align: middle;\n",
       "    }\n",
       "\n",
       "    .dataframe tbody tr th {\n",
       "        vertical-align: top;\n",
       "    }\n",
       "\n",
       "    .dataframe thead th {\n",
       "        text-align: right;\n",
       "    }\n",
       "</style>\n",
       "<table border=\"1\" class=\"dataframe\">\n",
       "  <thead>\n",
       "    <tr style=\"text-align: right;\">\n",
       "      <th></th>\n",
       "      <th>REF_DATE</th>\n",
       "      <th>GEO</th>\n",
       "      <th>DGUID</th>\n",
       "      <th>North American Industry Classification System (NAICS)</th>\n",
       "      <th>UOM</th>\n",
       "      <th>UOM_ID</th>\n",
       "      <th>SCALAR_FACTOR</th>\n",
       "      <th>SCALAR_ID</th>\n",
       "      <th>VECTOR</th>\n",
       "      <th>COORDINATE</th>\n",
       "      <th>VALUE</th>\n",
       "      <th>STATUS</th>\n",
       "      <th>SYMBOL</th>\n",
       "      <th>TERMINATED</th>\n",
       "      <th>DECIMALS</th>\n",
       "    </tr>\n",
       "  </thead>\n",
       "  <tbody>\n",
       "    <tr>\n",
       "      <th>0</th>\n",
       "      <td>1997</td>\n",
       "      <td>Canada</td>\n",
       "      <td>2016A000011124</td>\n",
       "      <td>All industries [T001]</td>\n",
       "      <td>Dollars</td>\n",
       "      <td>81</td>\n",
       "      <td>millions</td>\n",
       "      <td>6</td>\n",
       "      <td>v64605602</td>\n",
       "      <td>1.1</td>\n",
       "      <td>840500</td>\n",
       "      <td>NaN</td>\n",
       "      <td>NaN</td>\n",
       "      <td>NaN</td>\n",
       "      <td>0</td>\n",
       "    </tr>\n",
       "    <tr>\n",
       "      <th>1</th>\n",
       "      <td>1997</td>\n",
       "      <td>Canada</td>\n",
       "      <td>2016A000011124</td>\n",
       "      <td>Goods-producing industries [T002]</td>\n",
       "      <td>Dollars</td>\n",
       "      <td>81</td>\n",
       "      <td>millions</td>\n",
       "      <td>6</td>\n",
       "      <td>v64605713</td>\n",
       "      <td>1.2</td>\n",
       "      <td>269364</td>\n",
       "      <td>NaN</td>\n",
       "      <td>NaN</td>\n",
       "      <td>NaN</td>\n",
       "      <td>0</td>\n",
       "    </tr>\n",
       "    <tr>\n",
       "      <th>2</th>\n",
       "      <td>1997</td>\n",
       "      <td>Canada</td>\n",
       "      <td>2016A000011124</td>\n",
       "      <td>Service-producing industries [T003]</td>\n",
       "      <td>Dollars</td>\n",
       "      <td>81</td>\n",
       "      <td>millions</td>\n",
       "      <td>6</td>\n",
       "      <td>v64605824</td>\n",
       "      <td>1.3</td>\n",
       "      <td>571136</td>\n",
       "      <td>NaN</td>\n",
       "      <td>NaN</td>\n",
       "      <td>NaN</td>\n",
       "      <td>0</td>\n",
       "    </tr>\n",
       "    <tr>\n",
       "      <th>3</th>\n",
       "      <td>1997</td>\n",
       "      <td>Canada</td>\n",
       "      <td>2016A000011124</td>\n",
       "      <td>Industrial production [T010]</td>\n",
       "      <td>Dollars</td>\n",
       "      <td>81</td>\n",
       "      <td>millions</td>\n",
       "      <td>6</td>\n",
       "      <td>v64605841</td>\n",
       "      <td>1.4</td>\n",
       "      <td>205651</td>\n",
       "      <td>NaN</td>\n",
       "      <td>NaN</td>\n",
       "      <td>NaN</td>\n",
       "      <td>0</td>\n",
       "    </tr>\n",
       "    <tr>\n",
       "      <th>4</th>\n",
       "      <td>1997</td>\n",
       "      <td>Canada</td>\n",
       "      <td>2016A000011124</td>\n",
       "      <td>Non-durable manufacturing industries [T011]</td>\n",
       "      <td>Dollars</td>\n",
       "      <td>81</td>\n",
       "      <td>millions</td>\n",
       "      <td>6</td>\n",
       "      <td>v64605852</td>\n",
       "      <td>1.5</td>\n",
       "      <td>60046</td>\n",
       "      <td>NaN</td>\n",
       "      <td>NaN</td>\n",
       "      <td>NaN</td>\n",
       "      <td>0</td>\n",
       "    </tr>\n",
       "  </tbody>\n",
       "</table>\n",
       "</div>"
      ],
      "text/plain": [
       "   REF_DATE     GEO           DGUID  \\\n",
       "0      1997  Canada  2016A000011124   \n",
       "1      1997  Canada  2016A000011124   \n",
       "2      1997  Canada  2016A000011124   \n",
       "3      1997  Canada  2016A000011124   \n",
       "4      1997  Canada  2016A000011124   \n",
       "\n",
       "  North American Industry Classification System (NAICS)      UOM  UOM_ID  \\\n",
       "0                              All industries [T001]     Dollars      81   \n",
       "1                  Goods-producing industries [T002]     Dollars      81   \n",
       "2                Service-producing industries [T003]     Dollars      81   \n",
       "3                       Industrial production [T010]     Dollars      81   \n",
       "4        Non-durable manufacturing industries [T011]     Dollars      81   \n",
       "\n",
       "  SCALAR_FACTOR  SCALAR_ID     VECTOR  COORDINATE   VALUE  STATUS  SYMBOL  \\\n",
       "0      millions          6  v64605602         1.1  840500     NaN     NaN   \n",
       "1      millions          6  v64605713         1.2  269364     NaN     NaN   \n",
       "2      millions          6  v64605824         1.3  571136     NaN     NaN   \n",
       "3      millions          6  v64605841         1.4  205651     NaN     NaN   \n",
       "4      millions          6  v64605852         1.5   60046     NaN     NaN   \n",
       "\n",
       "   TERMINATED  DECIMALS  \n",
       "0         NaN         0  \n",
       "1         NaN         0  \n",
       "2         NaN         0  \n",
       "3         NaN         0  \n",
       "4         NaN         0  "
      ]
     },
     "execution_count": 200,
     "metadata": {},
     "output_type": "execute_result"
    }
   ],
   "source": [
    "df.head()"
   ]
  },
  {
   "cell_type": "markdown",
   "id": "a73675fb",
   "metadata": {},
   "source": [
    "## Unique Values in Each Column"
   ]
  },
  {
   "cell_type": "code",
   "execution_count": 201,
   "id": "bb70213b",
   "metadata": {},
   "outputs": [
    {
     "data": {
      "text/plain": [
       "GEO                                                       [Canada]\n",
       "DGUID                                             [2016A000011124]\n",
       "UOM                                                      [Dollars]\n",
       "UOM_ID                                                        [81]\n",
       "SCALAR_FACTOR                                           [millions]\n",
       "SCALAR_ID                                                      [6]\n",
       "VECTOR           [v64605602, v64605713, v64605824, v64605841, v...\n",
       "COORDINATE       [1.1, 1.2, 1.3, 1.4, 1.5, 1.6, 1.7, 1.8, 1.9, ...\n",
       "VALUE            [840500, 269364, 571136, 205651, 60046, 85467,...\n",
       "STATUS                                                       [nan]\n",
       "SYMBOL                                                       [nan]\n",
       "TERMINATED                                                   [nan]\n",
       "DECIMALS                                                       [0]\n",
       "dtype: object"
      ]
     },
     "execution_count": 201,
     "metadata": {},
     "output_type": "execute_result"
    }
   ],
   "source": [
    "unique_values = df[['GEO', 'DGUID', 'UOM', 'UOM_ID','SCALAR_FACTOR', 'SCALAR_ID', 'VECTOR' , 'COORDINATE', 'VALUE', 'STATUS', 'SYMBOL', 'TERMINATED', 'DECIMALS']].apply(lambda x: x.unique())\n",
    "unique_values"
   ]
  },
  {
   "cell_type": "markdown",
   "id": "55ccd05c",
   "metadata": {},
   "source": [
    "## Dropping Unnecessary Columns"
   ]
  },
  {
   "cell_type": "code",
   "execution_count": 202,
   "id": "7ac983c9",
   "metadata": {},
   "outputs": [],
   "source": [
    "df = df.drop(columns=['GEO', 'DGUID', 'UOM', 'UOM_ID', 'SCALAR_FACTOR',  'SCALAR_ID', 'VECTOR', 'COORDINATE', 'STATUS', 'SYMBOL', 'SYMBOL', 'TERMINATED', 'DECIMALS'])"
   ]
  },
  {
   "cell_type": "markdown",
   "id": "7b325821",
   "metadata": {},
   "source": [
    "## Update value using the scalar factor (millions)"
   ]
  },
  {
   "cell_type": "code",
   "execution_count": 203,
   "id": "00550ea5",
   "metadata": {},
   "outputs": [],
   "source": [
    "df['VALUE'] = df['VALUE'].apply(lambda x: x*1000000)"
   ]
  },
  {
   "cell_type": "code",
   "execution_count": 204,
   "id": "c8941f5a",
   "metadata": {},
   "outputs": [
    {
     "data": {
      "text/html": [
       "<div>\n",
       "<style scoped>\n",
       "    .dataframe tbody tr th:only-of-type {\n",
       "        vertical-align: middle;\n",
       "    }\n",
       "\n",
       "    .dataframe tbody tr th {\n",
       "        vertical-align: top;\n",
       "    }\n",
       "\n",
       "    .dataframe thead th {\n",
       "        text-align: right;\n",
       "    }\n",
       "</style>\n",
       "<table border=\"1\" class=\"dataframe\">\n",
       "  <thead>\n",
       "    <tr style=\"text-align: right;\">\n",
       "      <th></th>\n",
       "      <th>REF_DATE</th>\n",
       "      <th>North American Industry Classification System (NAICS)</th>\n",
       "      <th>VALUE</th>\n",
       "    </tr>\n",
       "  </thead>\n",
       "  <tbody>\n",
       "    <tr>\n",
       "      <th>0</th>\n",
       "      <td>1997</td>\n",
       "      <td>All industries [T001]</td>\n",
       "      <td>840500000000</td>\n",
       "    </tr>\n",
       "    <tr>\n",
       "      <th>1</th>\n",
       "      <td>1997</td>\n",
       "      <td>Goods-producing industries [T002]</td>\n",
       "      <td>269364000000</td>\n",
       "    </tr>\n",
       "    <tr>\n",
       "      <th>2</th>\n",
       "      <td>1997</td>\n",
       "      <td>Service-producing industries [T003]</td>\n",
       "      <td>571136000000</td>\n",
       "    </tr>\n",
       "    <tr>\n",
       "      <th>3</th>\n",
       "      <td>1997</td>\n",
       "      <td>Industrial production [T010]</td>\n",
       "      <td>205651000000</td>\n",
       "    </tr>\n",
       "    <tr>\n",
       "      <th>4</th>\n",
       "      <td>1997</td>\n",
       "      <td>Non-durable manufacturing industries [T011]</td>\n",
       "      <td>60046000000</td>\n",
       "    </tr>\n",
       "  </tbody>\n",
       "</table>\n",
       "</div>"
      ],
      "text/plain": [
       "   REF_DATE North American Industry Classification System (NAICS)  \\\n",
       "0      1997                              All industries [T001]      \n",
       "1      1997                  Goods-producing industries [T002]      \n",
       "2      1997                Service-producing industries [T003]      \n",
       "3      1997                       Industrial production [T010]      \n",
       "4      1997        Non-durable manufacturing industries [T011]      \n",
       "\n",
       "          VALUE  \n",
       "0  840500000000  \n",
       "1  269364000000  \n",
       "2  571136000000  \n",
       "3  205651000000  \n",
       "4   60046000000  "
      ]
     },
     "execution_count": 204,
     "metadata": {},
     "output_type": "execute_result"
    }
   ],
   "source": [
    "df.head()"
   ]
  },
  {
   "cell_type": "markdown",
   "id": "2e716585",
   "metadata": {},
   "source": [
    "## Examining Data Types"
   ]
  },
  {
   "cell_type": "code",
   "execution_count": 205,
   "id": "f48c9c77",
   "metadata": {},
   "outputs": [
    {
     "data": {
      "text/plain": [
       "REF_DATE                                                  int64\n",
       "North American Industry Classification System (NAICS)    object\n",
       "VALUE                                                     int64\n",
       "dtype: object"
      ]
     },
     "execution_count": 205,
     "metadata": {},
     "output_type": "execute_result"
    }
   ],
   "source": [
    "df.dtypes"
   ]
  },
  {
   "cell_type": "markdown",
   "id": "1cd13219",
   "metadata": {},
   "source": [
    "## Renaming Columns for Clarity and Simplicity"
   ]
  },
  {
   "cell_type": "code",
   "execution_count": 206,
   "id": "29b8162e",
   "metadata": {},
   "outputs": [],
   "source": [
    "df = df.rename(columns={'REF_DATE': 'Date', 'North American Industry Classification System (NAICS)': 'NAICS', 'VALUE': 'Value'})"
   ]
  },
  {
   "cell_type": "code",
   "execution_count": 207,
   "id": "04d4e41f",
   "metadata": {},
   "outputs": [
    {
     "data": {
      "text/html": [
       "<div>\n",
       "<style scoped>\n",
       "    .dataframe tbody tr th:only-of-type {\n",
       "        vertical-align: middle;\n",
       "    }\n",
       "\n",
       "    .dataframe tbody tr th {\n",
       "        vertical-align: top;\n",
       "    }\n",
       "\n",
       "    .dataframe thead th {\n",
       "        text-align: right;\n",
       "    }\n",
       "</style>\n",
       "<table border=\"1\" class=\"dataframe\">\n",
       "  <thead>\n",
       "    <tr style=\"text-align: right;\">\n",
       "      <th></th>\n",
       "      <th>Date</th>\n",
       "      <th>NAICS</th>\n",
       "      <th>Value</th>\n",
       "    </tr>\n",
       "  </thead>\n",
       "  <tbody>\n",
       "    <tr>\n",
       "      <th>0</th>\n",
       "      <td>1997</td>\n",
       "      <td>All industries [T001]</td>\n",
       "      <td>840500000000</td>\n",
       "    </tr>\n",
       "    <tr>\n",
       "      <th>1</th>\n",
       "      <td>1997</td>\n",
       "      <td>Goods-producing industries [T002]</td>\n",
       "      <td>269364000000</td>\n",
       "    </tr>\n",
       "    <tr>\n",
       "      <th>2</th>\n",
       "      <td>1997</td>\n",
       "      <td>Service-producing industries [T003]</td>\n",
       "      <td>571136000000</td>\n",
       "    </tr>\n",
       "    <tr>\n",
       "      <th>3</th>\n",
       "      <td>1997</td>\n",
       "      <td>Industrial production [T010]</td>\n",
       "      <td>205651000000</td>\n",
       "    </tr>\n",
       "    <tr>\n",
       "      <th>4</th>\n",
       "      <td>1997</td>\n",
       "      <td>Non-durable manufacturing industries [T011]</td>\n",
       "      <td>60046000000</td>\n",
       "    </tr>\n",
       "  </tbody>\n",
       "</table>\n",
       "</div>"
      ],
      "text/plain": [
       "   Date                                        NAICS         Value\n",
       "0  1997                        All industries [T001]  840500000000\n",
       "1  1997            Goods-producing industries [T002]  269364000000\n",
       "2  1997          Service-producing industries [T003]  571136000000\n",
       "3  1997                 Industrial production [T010]  205651000000\n",
       "4  1997  Non-durable manufacturing industries [T011]   60046000000"
      ]
     },
     "execution_count": 207,
     "metadata": {},
     "output_type": "execute_result"
    }
   ],
   "source": [
    "df.head()"
   ]
  },
  {
   "cell_type": "markdown",
   "id": "a317748a",
   "metadata": {},
   "source": [
    "## Checking for Missing Values"
   ]
  },
  {
   "cell_type": "code",
   "execution_count": 208,
   "id": "a91822bd",
   "metadata": {},
   "outputs": [
    {
     "data": {
      "text/plain": [
       "array([False])"
      ]
     },
     "execution_count": 208,
     "metadata": {},
     "output_type": "execute_result"
    }
   ],
   "source": [
    "df['Date'].isnull().unique()"
   ]
  },
  {
   "cell_type": "code",
   "execution_count": 209,
   "id": "3ab7aa33",
   "metadata": {},
   "outputs": [
    {
     "data": {
      "text/plain": [
       "array([False])"
      ]
     },
     "execution_count": 209,
     "metadata": {},
     "output_type": "execute_result"
    }
   ],
   "source": [
    "df['NAICS'].isnull().unique()"
   ]
  },
  {
   "cell_type": "code",
   "execution_count": 210,
   "id": "d7ff00ef",
   "metadata": {},
   "outputs": [
    {
     "data": {
      "text/plain": [
       "array([False])"
      ]
     },
     "execution_count": 210,
     "metadata": {},
     "output_type": "execute_result"
    }
   ],
   "source": [
    "df['Value'].isnull().unique()"
   ]
  },
  {
   "cell_type": "markdown",
   "id": "d60aca7c",
   "metadata": {},
   "source": [
    "## Filtering Date to Start from 2000"
   ]
  },
  {
   "cell_type": "code",
   "execution_count": 211,
   "id": "f15719df",
   "metadata": {},
   "outputs": [],
   "source": [
    "df = df[df['Date'] >= 2000]"
   ]
  },
  {
   "cell_type": "code",
   "execution_count": 212,
   "id": "6a7b89d0",
   "metadata": {},
   "outputs": [
    {
     "data": {
      "text/html": [
       "<div>\n",
       "<style scoped>\n",
       "    .dataframe tbody tr th:only-of-type {\n",
       "        vertical-align: middle;\n",
       "    }\n",
       "\n",
       "    .dataframe tbody tr th {\n",
       "        vertical-align: top;\n",
       "    }\n",
       "\n",
       "    .dataframe thead th {\n",
       "        text-align: right;\n",
       "    }\n",
       "</style>\n",
       "<table border=\"1\" class=\"dataframe\">\n",
       "  <thead>\n",
       "    <tr style=\"text-align: right;\">\n",
       "      <th></th>\n",
       "      <th>Date</th>\n",
       "      <th>NAICS</th>\n",
       "      <th>Value</th>\n",
       "    </tr>\n",
       "  </thead>\n",
       "  <tbody>\n",
       "    <tr>\n",
       "      <th>1008</th>\n",
       "      <td>2000</td>\n",
       "      <td>All industries [T001]</td>\n",
       "      <td>1027444000000</td>\n",
       "    </tr>\n",
       "    <tr>\n",
       "      <th>1009</th>\n",
       "      <td>2000</td>\n",
       "      <td>Goods-producing industries [T002]</td>\n",
       "      <td>347862000000</td>\n",
       "    </tr>\n",
       "    <tr>\n",
       "      <th>1010</th>\n",
       "      <td>2000</td>\n",
       "      <td>Service-producing industries [T003]</td>\n",
       "      <td>679582000000</td>\n",
       "    </tr>\n",
       "    <tr>\n",
       "      <th>1011</th>\n",
       "      <td>2000</td>\n",
       "      <td>Industrial production [T010]</td>\n",
       "      <td>275215000000</td>\n",
       "    </tr>\n",
       "    <tr>\n",
       "      <th>1012</th>\n",
       "      <td>2000</td>\n",
       "      <td>Non-durable manufacturing industries [T011]</td>\n",
       "      <td>72315000000</td>\n",
       "    </tr>\n",
       "  </tbody>\n",
       "</table>\n",
       "</div>"
      ],
      "text/plain": [
       "      Date                                        NAICS          Value\n",
       "1008  2000                        All industries [T001]  1027444000000\n",
       "1009  2000            Goods-producing industries [T002]   347862000000\n",
       "1010  2000          Service-producing industries [T003]   679582000000\n",
       "1011  2000                 Industrial production [T010]   275215000000\n",
       "1012  2000  Non-durable manufacturing industries [T011]    72315000000"
      ]
     },
     "execution_count": 212,
     "metadata": {},
     "output_type": "execute_result"
    }
   ],
   "source": [
    "df.head()"
   ]
  },
  {
   "cell_type": "markdown",
   "id": "f1e31966",
   "metadata": {},
   "source": [
    "## Reset indeces"
   ]
  },
  {
   "cell_type": "code",
   "execution_count": 213,
   "id": "63407ce9",
   "metadata": {},
   "outputs": [],
   "source": [
    "df.reset_index(drop=True, inplace=True)"
   ]
  },
  {
   "cell_type": "code",
   "execution_count": 214,
   "id": "ca8b4b00",
   "metadata": {},
   "outputs": [
    {
     "data": {
      "text/html": [
       "<div>\n",
       "<style scoped>\n",
       "    .dataframe tbody tr th:only-of-type {\n",
       "        vertical-align: middle;\n",
       "    }\n",
       "\n",
       "    .dataframe tbody tr th {\n",
       "        vertical-align: top;\n",
       "    }\n",
       "\n",
       "    .dataframe thead th {\n",
       "        text-align: right;\n",
       "    }\n",
       "</style>\n",
       "<table border=\"1\" class=\"dataframe\">\n",
       "  <thead>\n",
       "    <tr style=\"text-align: right;\">\n",
       "      <th></th>\n",
       "      <th>Date</th>\n",
       "      <th>NAICS</th>\n",
       "      <th>Value</th>\n",
       "    </tr>\n",
       "  </thead>\n",
       "  <tbody>\n",
       "    <tr>\n",
       "      <th>0</th>\n",
       "      <td>2000</td>\n",
       "      <td>All industries [T001]</td>\n",
       "      <td>1027444000000</td>\n",
       "    </tr>\n",
       "    <tr>\n",
       "      <th>1</th>\n",
       "      <td>2000</td>\n",
       "      <td>Goods-producing industries [T002]</td>\n",
       "      <td>347862000000</td>\n",
       "    </tr>\n",
       "    <tr>\n",
       "      <th>2</th>\n",
       "      <td>2000</td>\n",
       "      <td>Service-producing industries [T003]</td>\n",
       "      <td>679582000000</td>\n",
       "    </tr>\n",
       "    <tr>\n",
       "      <th>3</th>\n",
       "      <td>2000</td>\n",
       "      <td>Industrial production [T010]</td>\n",
       "      <td>275215000000</td>\n",
       "    </tr>\n",
       "    <tr>\n",
       "      <th>4</th>\n",
       "      <td>2000</td>\n",
       "      <td>Non-durable manufacturing industries [T011]</td>\n",
       "      <td>72315000000</td>\n",
       "    </tr>\n",
       "    <tr>\n",
       "      <th>...</th>\n",
       "      <td>...</td>\n",
       "      <td>...</td>\n",
       "      <td>...</td>\n",
       "    </tr>\n",
       "    <tr>\n",
       "      <th>7054</th>\n",
       "      <td>2020</td>\n",
       "      <td>Federal government public administration (exce...</td>\n",
       "      <td>42564000000</td>\n",
       "    </tr>\n",
       "    <tr>\n",
       "      <th>7055</th>\n",
       "      <td>2020</td>\n",
       "      <td>Provincial and territorial public administrati...</td>\n",
       "      <td>40664000000</td>\n",
       "    </tr>\n",
       "    <tr>\n",
       "      <th>7056</th>\n",
       "      <td>2020</td>\n",
       "      <td>Local, municipal, regional and aboriginal publ...</td>\n",
       "      <td>60291000000</td>\n",
       "    </tr>\n",
       "    <tr>\n",
       "      <th>7057</th>\n",
       "      <td>2020</td>\n",
       "      <td>Local, municipal and regional public administr...</td>\n",
       "      <td>54541000000</td>\n",
       "    </tr>\n",
       "    <tr>\n",
       "      <th>7058</th>\n",
       "      <td>2020</td>\n",
       "      <td>Aboriginal public administration [914]</td>\n",
       "      <td>5750000000</td>\n",
       "    </tr>\n",
       "  </tbody>\n",
       "</table>\n",
       "<p>7059 rows × 3 columns</p>\n",
       "</div>"
      ],
      "text/plain": [
       "      Date                                              NAICS          Value\n",
       "0     2000                              All industries [T001]  1027444000000\n",
       "1     2000                  Goods-producing industries [T002]   347862000000\n",
       "2     2000                Service-producing industries [T003]   679582000000\n",
       "3     2000                       Industrial production [T010]   275215000000\n",
       "4     2000        Non-durable manufacturing industries [T011]    72315000000\n",
       "...    ...                                                ...            ...\n",
       "7054  2020  Federal government public administration (exce...    42564000000\n",
       "7055  2020  Provincial and territorial public administrati...    40664000000\n",
       "7056  2020  Local, municipal, regional and aboriginal publ...    60291000000\n",
       "7057  2020  Local, municipal and regional public administr...    54541000000\n",
       "7058  2020             Aboriginal public administration [914]     5750000000\n",
       "\n",
       "[7059 rows x 3 columns]"
      ]
     },
     "execution_count": 214,
     "metadata": {},
     "output_type": "execute_result"
    }
   ],
   "source": [
    "df"
   ]
  },
  {
   "cell_type": "markdown",
   "id": "8b68f52a",
   "metadata": {},
   "source": [
    "## Check if NAICS are all possible sectors"
   ]
  },
  {
   "cell_type": "code",
   "execution_count": 215,
   "id": "b36036d7",
   "metadata": {},
   "outputs": [
    {
     "data": {
      "text/plain": [
       "337"
      ]
     },
     "execution_count": 215,
     "metadata": {},
     "output_type": "execute_result"
    }
   ],
   "source": [
    "len(df['NAICS'].unique())"
   ]
  },
  {
   "cell_type": "code",
   "execution_count": 216,
   "id": "1ff8cd69",
   "metadata": {},
   "outputs": [],
   "source": [
    "unique_NAICS = df['NAICS'].unique()"
   ]
  },
  {
   "cell_type": "code",
   "execution_count": 217,
   "id": "9d268295",
   "metadata": {},
   "outputs": [
    {
     "data": {
      "text/plain": [
       "array(['All industries [T001]', 'Goods-producing industries [T002]',\n",
       "       'Service-producing industries [T003]',\n",
       "       'Industrial production [T010]',\n",
       "       'Non-durable manufacturing industries [T011]',\n",
       "       'Durable manufacturing industries [T012]',\n",
       "       'Information and communication technology sector [T013]',\n",
       "       'Information and communication technology, manufacturing [T014]',\n",
       "       'Information and communication technology, services [T015]',\n",
       "       'Energy sector [T016]', 'Public sector [T018]',\n",
       "       'All industries (except cannabis sector) [T020]',\n",
       "       'Cannabis sector [T021]', 'Cannabis sector (licensed) [T022]',\n",
       "       'Cannabis sector (unlicensed) [T023]',\n",
       "       'All industries (except unlicensed cannabis sector) [T024]',\n",
       "       'Agriculture, forestry, fishing and hunting [11]',\n",
       "       'Crop and animal production [11A]', 'Crop production [111]',\n",
       "       'Crop production (except cannabis) [111X]',\n",
       "       'Greenhouse, nursery and floriculture production (except cannabis) [1114A]',\n",
       "       'Crop production (except cannabis, greenhouse, nursery and floriculture production) [111A]',\n",
       "       'Cannabis production [111C]',\n",
       "       'Cannabis production (licensed) [111CL]',\n",
       "       'Cannabis production (unlicensed) [111CU]',\n",
       "       'Crop production (except unlicensed cannabis) [111Y]',\n",
       "       'Animal production and aquaculture [112]', 'Aquaculture [1125]',\n",
       "       'Animal production (except aquaculture) [112A]',\n",
       "       'Forestry and logging [113]',\n",
       "       'Fishing, hunting and trapping [114]',\n",
       "       'Support activities for agriculture and forestry [115]',\n",
       "       'Support activities for forestry [1153]',\n",
       "       'Support activities for crop and animal production [115A]',\n",
       "       'Mining, quarrying, and oil and gas extraction [21]',\n",
       "       'Oil and gas extraction [211]',\n",
       "       'Oil and gas extraction (except oil sands) [21111]',\n",
       "       'Oil sands extraction [21114]',\n",
       "       'Mining and quarrying (except oil and gas) [212]',\n",
       "       'Coal mining [2121]', 'Metal ore mining [2122]',\n",
       "       'Iron ore mining [21221]', 'Gold and silver ore mining [21222]',\n",
       "       'Copper, nickel, lead and zinc ore mining [21223]',\n",
       "       'Other metal ore mining [21229]',\n",
       "       'Non-metallic mineral mining and quarrying [2123]',\n",
       "       'Stone mining and quarrying [21231]',\n",
       "       'Sand, gravel, clay, and ceramic and refractory minerals mining and quarrying [21232]',\n",
       "       'Other non-metallic mineral mining and quarrying [21239]',\n",
       "       'Diamond mining [212392]', 'Potash mining [212396]',\n",
       "       'Other non-metallic mineral mining and quarrying (except diamond and potash) [21239A]',\n",
       "       'Support activities for mining, and oil and gas extraction [213]',\n",
       "       'Support activities for oil and gas extraction [21311A]',\n",
       "       'Support activities for mining [21311B]', 'Utilities [22]',\n",
       "       'Electric power generation, transmission and distribution [2211]',\n",
       "       'Natural gas distribution, water, sewage and other systems [221A]',\n",
       "       'Natural gas distribution [2212]',\n",
       "       'Water, sewage and other systems [2213]', 'Construction [23]',\n",
       "       'Residential building construction [23A]',\n",
       "       'Non-residential building construction [23B]',\n",
       "       'Engineering and other construction activities [23X]',\n",
       "       'Engineering construction [23C]',\n",
       "       'Transportation engineering construction [23C1]',\n",
       "       'Oil and gas engineering construction [23C2]',\n",
       "       'Electric power engineering construction [23C3]',\n",
       "       'Communication engineering construction [23C4]',\n",
       "       'Other engineering construction [23C5]',\n",
       "       'Other activities of the construction industry [23E]',\n",
       "       'Repair construction [23D]', 'Manufacturing [31-33]',\n",
       "       'Food manufacturing [311]', 'Animal food manufacturing [3111]',\n",
       "       'Sugar and confectionery product manufacturing [3113]',\n",
       "       'Fruit and vegetable preserving and specialty food manufacturing [3114]',\n",
       "       'Dairy product manufacturing [3115]',\n",
       "       'Meat product manufacturing [3116]',\n",
       "       'Seafood product preparation and packaging [3117]',\n",
       "       'Miscellaneous food manufacturing [311A]',\n",
       "       'Grain and oilseed milling [3112]',\n",
       "       'Bakeries and tortilla manufacturing [3118]',\n",
       "       'Other food manufacturing [3119]',\n",
       "       'Beverage and tobacco product manufacturing [312]',\n",
       "       'Soft drink and ice manufacturing [31211]', 'Breweries [31212]',\n",
       "       'Wineries and distilleries [3121A]',\n",
       "       'Tobacco manufacturing [3122]',\n",
       "       'Textile and textile product mills [31A]',\n",
       "       'Clothing and leather and allied product manufacturing [31B]',\n",
       "       'Wood product manufacturing [321]',\n",
       "       'Sawmills and wood preservation [3211]',\n",
       "       'Veneer, plywood and engineered wood product manufacturing [3212]',\n",
       "       'Other wood product manufacturing [3219]',\n",
       "       'Paper manufacturing [322]',\n",
       "       'Pulp, paper and paperboard mills [3221]',\n",
       "       'Converted paper product manufacturing [3222]',\n",
       "       'Printing and related support activities [323]',\n",
       "       'Petroleum and coal product manufacturing [324]',\n",
       "       'Petroleum refineries [32411]',\n",
       "       'Petroleum and coal product manufacturing (except petroleum refineries) [3241A]',\n",
       "       'Chemical manufacturing [325]',\n",
       "       'Basic chemical manufacturing [3251]',\n",
       "       'Resin, synthetic rubber, and artificial and synthetic fibres and filaments manufacturing [3252]',\n",
       "       'Pesticide, fertilizer and other agricultural chemical manufacturing [3253]',\n",
       "       'Pharmaceutical and medicine manufacturing [3254]',\n",
       "       'Miscellaneous chemical product manufacturing [325A]',\n",
       "       'Paint, coating and adhesive manufacturing [3255]',\n",
       "       'Soap, cleaning compound and toilet preparation manufacturing [3256]',\n",
       "       'Other chemical product manufacturing [3259]',\n",
       "       'Resin, synthetic rubber and fibres, and paint manufacturing [325B]',\n",
       "       'Plastics and rubber products manufacturing [326]',\n",
       "       'Plastic product manufacturing [3261]',\n",
       "       'Rubber product manufacturing [3262]',\n",
       "       'Non-metallic mineral product manufacturing [327]',\n",
       "       'Cement and concrete product manufacturing [3273]',\n",
       "       'Non-metallic mineral product manufacturing (except cement and concrete products) [327A]',\n",
       "       'Primary metal manufacturing [331]',\n",
       "       'Iron and steel mills and ferro-alloy manufacturing [3311]',\n",
       "       'Steel product manufacturing from purchased steel [3312]',\n",
       "       'Alumina and aluminum production and processing [3313]',\n",
       "       'Non-ferrous metal (except aluminum) production and processing [3314]',\n",
       "       'Foundries [3315]', 'Fabricated metal product manufacturing [332]',\n",
       "       'Forging and stamping [3321]',\n",
       "       'Architectural and structural metals manufacturing [3323]',\n",
       "       'Boiler, tank and shipping container manufacturing [3324]',\n",
       "       'Hardware manufacturing [3325]',\n",
       "       'Spring and wire product manufacturing [3326]',\n",
       "       'Machine shops, turned product, and screw, nut and bolt manufacturing [3327]',\n",
       "       'Coating, engraving, cold and heat treating and allied activities [3328]',\n",
       "       'Cutlery, hand tools and other fabricated metal product manufacturing [332A]',\n",
       "       'Machinery manufacturing [333]',\n",
       "       'Agricultural, construction and mining machinery manufacturing [3331]',\n",
       "       'Industrial, commercial and service industry machinery manufacturing [333A]',\n",
       "       'Industrial machinery manufacturing [3332]',\n",
       "       'Commercial and service industry machinery manufacturing [3333]',\n",
       "       'Ventilation, heating, air-conditioning and commercial refrigeration equipment manufacturing [3334]',\n",
       "       'Metalworking machinery manufacturing [3335]',\n",
       "       'Engine, turbine and power transmission equipment manufacturing [3336]',\n",
       "       'Other general-purpose machinery manufacturing [3339]',\n",
       "       'Computer and electronic product manufacturing [334]',\n",
       "       'Computer and peripheral equipment manufacturing [3341]',\n",
       "       'Communications equipment manufacturing [3342]',\n",
       "       'Semiconductor and other electronic component manufacturing [3344]',\n",
       "       'Other electronic product manufacturing [334A]',\n",
       "       'Electrical equipment, appliance and component manufacturing [335]',\n",
       "       'Electric lighting equipment manufacturing [3351]',\n",
       "       'Household appliance manufacturing [3352]',\n",
       "       'Electrical equipment manufacturing [3353]',\n",
       "       'Other electrical equipment and component manufacturing [3359]',\n",
       "       'Transportation equipment manufacturing [336]',\n",
       "       'Motor vehicles and parts manufacturing [336Y]',\n",
       "       'Motor vehicle manufacturing [3361]',\n",
       "       'Automobile and light-duty motor vehicle manufacturing [33611]',\n",
       "       'Heavy-duty truck manufacturing [33612]',\n",
       "       'Motor vehicle body and trailer manufacturing [3362]',\n",
       "       'Motor vehicle parts manufacturing [3363]',\n",
       "       'Motor vehicle gasoline engine and engine parts manufacturing [33631]',\n",
       "       'Motor vehicle electrical and electronic equipment manufacturing [33632]',\n",
       "       'Motor vehicle steering and suspension components (except spring) manufacturing [33633]',\n",
       "       'Motor vehicle brake system manufacturing [33634]',\n",
       "       'Motor vehicle transmission and power train parts manufacturing [33635]',\n",
       "       'Motor vehicle seating and interior trim manufacturing [33636]',\n",
       "       'Motor vehicle metal stamping [33637]',\n",
       "       'Other motor vehicle parts manufacturing [33639]',\n",
       "       'Aerospace product and parts manufacturing [3364]',\n",
       "       'Railroad rolling stock manufacturing [3365]',\n",
       "       'Ship and boat building [3366]',\n",
       "       'Other transportation equipment manufacturing [3369]',\n",
       "       'Furniture and related product manufacturing [337]',\n",
       "       'Household and institutional furniture and kitchen cabinet manufacturing [3371]',\n",
       "       'Office furniture (including fixtures) manufacturing [3372]',\n",
       "       'Other furniture-related product manufacturing [3379]',\n",
       "       'Miscellaneous manufacturing [339]',\n",
       "       'Medical equipment and supplies manufacturing [3391]',\n",
       "       'Other miscellaneous manufacturing [3399]', 'Wholesale trade [41]',\n",
       "       'Farm product merchant wholesalers [411]',\n",
       "       'Petroleum and petroleum products merchant wholesalers [412]',\n",
       "       'Food, beverage and tobacco merchant wholesalers [413]',\n",
       "       'Personal and household goods merchant wholesalers [414]',\n",
       "       'Motor vehicle and motor vehicle parts and accessories merchant wholesalers [415]',\n",
       "       'Building material and supplies merchant wholesalers [416]',\n",
       "       'Machinery, equipment and supplies merchant wholesalers [417]',\n",
       "       'Miscellaneous merchant wholesalers [418]',\n",
       "       'Business-to-business electronic markets, and agents and brokers [419]',\n",
       "       'Retail trade [44-45]', 'Motor vehicle and parts dealers [441]',\n",
       "       'Furniture and home furnishings stores [442]',\n",
       "       'Electronics and appliance stores [443]',\n",
       "       'Building material and garden equipment and supplies dealers [444]',\n",
       "       'Food and beverage stores [445]',\n",
       "       'Health and personal care stores [446]', 'Gasoline stations [447]',\n",
       "       'Clothing and clothing accessories stores [448]',\n",
       "       'Sporting goods, hobby, book and music stores [451]',\n",
       "       'General merchandise stores [452]',\n",
       "       'Miscellaneous store retailers [453]',\n",
       "       'Miscellaneous store retailers (except cannabis) [453A]',\n",
       "       'Cannabis stores [453B]', 'Cannabis stores (unlicensed) [453BU]',\n",
       "       'Miscellaneous store retailers (except unlicensed cannabis) [453X]',\n",
       "       'Non-store retailers [454]',\n",
       "       'Retail trade (except cannabis) [4AA]',\n",
       "       'Retail trade (except unlicensed cannabis) [4AZ]',\n",
       "       'Transportation and warehousing [48-49]',\n",
       "       'Air transportation [481]', 'Rail transportation [482]',\n",
       "       'Water transportation [483]', 'Truck transportation [484]',\n",
       "       'Transit, ground passenger and scenic and sightseeing transportation [48Z]',\n",
       "       'Urban transit systems [4851]',\n",
       "       'Taxi and limousine service [4853]',\n",
       "       'Other transit and ground passenger transportation and scenic and sightseeing transportation [48A]',\n",
       "       'Support activities for transportation [488]',\n",
       "       'Pipeline transportation [486]',\n",
       "       'Pipeline transportation of natural gas [4862]',\n",
       "       'Crude oil and other pipeline transportation [486A]',\n",
       "       'Postal service, couriers and messengers [49A]',\n",
       "       'Postal service [491]', 'Couriers and messengers [492]',\n",
       "       'Warehousing and storage [493]',\n",
       "       'Information and cultural industries [51]',\n",
       "       'Publishing industries [511]',\n",
       "       'Newspaper, periodical, book and directory publishers [5111]',\n",
       "       'Newspaper publishers [51111]',\n",
       "       'Periodical, book and directory publishers [5111A]',\n",
       "       'Software publishers [5112]',\n",
       "       'Motion picture and sound recording industries [512]',\n",
       "       'Motion picture and video exhibition [51213]',\n",
       "       'Motion picture and video industries (except exhibition) [5121A]',\n",
       "       'Sound recording industries [5122]',\n",
       "       'Broadcasting (except Internet) [515]',\n",
       "       'Radio and television broadcasting [5151]',\n",
       "       'Pay and specialty television [5152]', 'Telecommunications [517]',\n",
       "       'Data processing, hosting, and related services [518]',\n",
       "       'Other information services [519]',\n",
       "       'Pay and specialty television, telecommunications and other information services [51A]',\n",
       "       'Finance and insurance [52]',\n",
       "       'Credit intermediation and monetary authorities [52X]',\n",
       "       'Monetary authorities - central bank [521]',\n",
       "       'Credit intermediation and related activities [522]',\n",
       "       'Depository credit intermediation [5221]',\n",
       "       'Local credit unions [52213]',\n",
       "       'Banking and other depository credit intermediation [5221A]',\n",
       "       'Non-depository credit intermediation and activities related to credit intermediation [522A]',\n",
       "       'Non-depository credit intermediation [5222]',\n",
       "       'Activities related to credit intermediation [5223]',\n",
       "       'Insurance carriers and related activities [524]',\n",
       "       'Insurance carriers [5241]',\n",
       "       'Agencies, brokerages and other insurance related activities [5242]',\n",
       "       'Financial investment services, funds and other financial vehicles [52A]',\n",
       "       'Depository credit intermediation and monetary authorities [52B]',\n",
       "       'Real estate and rental and leasing [53]', 'Real estate [531]',\n",
       "       'Lessors of real estate [5311]',\n",
       "       'Owner-occupied dwellings [5311A]',\n",
       "       'Offices of real estate agents and brokers and activities related to real estate [531A]',\n",
       "       'Rental and leasing services [532]',\n",
       "       'Automotive equipment rental and leasing [5321]',\n",
       "       'Rental and leasing services (except automotive equipment) [532A]',\n",
       "       'Lessors of non-financial intangible assets (except copyrighted works) [533]',\n",
       "       'Rental and leasing services (except automotive equipment) and lessors of non-financial intangible assets (except copyrighted works) [53A]',\n",
       "       'Professional, scientific and technical services [54]',\n",
       "       'Legal, accounting and related services [541A]',\n",
       "       'Legal services [5411]',\n",
       "       'Accounting, tax preparation, bookkeeping and payroll services [5412]',\n",
       "       'Architectural, engineering and related services [5413]',\n",
       "       'Other professional, scientific and technical services including scientific research and development [541B]',\n",
       "       'Specialized design services [5414]',\n",
       "       'Management, scientific and technical consulting services [5416]',\n",
       "       'Scientific research and development services [5417]',\n",
       "       'Other professional, scientific and technical services [5419]',\n",
       "       'Computer systems design and related services [5415]',\n",
       "       'Advertising, public relations, and related services [5418]',\n",
       "       'Management of companies and enterprises [55]',\n",
       "       'Administrative and support, waste management and remediation services [56]',\n",
       "       'Administrative and support services [561]',\n",
       "       'Other administrative and support services [561B]',\n",
       "       'Office administrative services [5611]',\n",
       "       'Employment services [5613]', 'Business support services [5614]',\n",
       "       'Facilities and other support services [561A]',\n",
       "       'Travel arrangement and reservation services [5615]',\n",
       "       'Investigation and security services [5616]',\n",
       "       'Services to buildings and dwellings [5617]',\n",
       "       'Waste management and remediation services [562]',\n",
       "       'Educational services [61]', 'Universities [6113]',\n",
       "       'Educational services (except universities) [611B]',\n",
       "       'Elementary and secondary schools [6111]',\n",
       "       'Community colleges and C.E.G.E.P.s [6112]',\n",
       "       'Other educational services [611A]',\n",
       "       'Health care and social assistance [62]', 'Health care [62X]',\n",
       "       'Ambulatory health care services [621]',\n",
       "       'Offices of physicians [6211]', 'Offices of dentists [6212]',\n",
       "       'Miscellaneous ambulatory health care services [621A]',\n",
       "       'Hospitals [622]', 'Nursing and residential care facilities [623]',\n",
       "       'Social assistance [624]',\n",
       "       'Arts, entertainment and recreation [71]',\n",
       "       'Performing arts, spectator sports and related industries, and heritage institutions [71A]',\n",
       "       'Amusement, gambling and recreation industries [713]',\n",
       "       'Gambling industries [7132]',\n",
       "       'Amusement and recreation industries [713A]',\n",
       "       'Accommodation and food services [72]',\n",
       "       'Accommodation services [721]', 'Traveller accommodation [7211]',\n",
       "       'Recreational vehicle (RV) parks, recreational camps, and rooming and boarding houses [721A]',\n",
       "       'Food services and drinking places [722]',\n",
       "       'Other services (except public administration) [81]',\n",
       "       'Repair and maintenance [811]',\n",
       "       'Automotive repair and maintenance [8111]',\n",
       "       'Repair and maintenance (except automotive) [811A]',\n",
       "       'Personal services and private households [81A]',\n",
       "       'Personal and laundry services [812]', 'Funeral services [8122]',\n",
       "       'Dry cleaning and laundry services [8123]',\n",
       "       'Personal care services and other personal services [812A]',\n",
       "       'Private households [814]',\n",
       "       'Religious, grant-making, civic, and professional and similar organizations [813]',\n",
       "       'Religious organizations [8131]',\n",
       "       'Grant-making, civic, and professional and similar organizations [813A]',\n",
       "       'Public administration [91]',\n",
       "       'Federal government public administration [911]',\n",
       "       'Defence services [9111]',\n",
       "       'Federal government public administration (except defence) [911A]',\n",
       "       'Provincial and territorial public administration [912]',\n",
       "       'Local, municipal, regional and aboriginal public administration [91A]',\n",
       "       'Local, municipal and regional public administration [913]',\n",
       "       'Aboriginal public administration [914]',\n",
       "       'Cannabis stores (licensed) [453BL]'], dtype=object)"
      ]
     },
     "execution_count": 217,
     "metadata": {},
     "output_type": "execute_result"
    }
   ],
   "source": [
    "unique_NAICS"
   ]
  },
  {
   "cell_type": "code",
   "execution_count": 218,
   "id": "14831b4e",
   "metadata": {},
   "outputs": [
    {
     "data": {
      "text/plain": [
       "337"
      ]
     },
     "execution_count": 218,
     "metadata": {},
     "output_type": "execute_result"
    }
   ],
   "source": [
    "len(unique_NAICS)"
   ]
  },
  {
   "cell_type": "markdown",
   "id": "282ca9d0",
   "metadata": {},
   "source": [
    "## Function to drop any subsectors (or total of sectors)"
   ]
  },
  {
   "cell_type": "code",
   "execution_count": 219,
   "id": "1dad300a",
   "metadata": {},
   "outputs": [],
   "source": [
    "naics_sector_codes = [\n",
    "    \"[11]\", \"[21]\", \"[22]\", \"[23]\", \"[31-33]\", \"[42]\", \"[44-45]\", \"[48-49]\", \"[51]\",\n",
    "    \"[52]\", \"[53]\", \"[54]\", \"[55]\", \"[56]\", \"[61]\", \"[62]\", \"[71]\", \"[72]\", \"[81]\", \"[91]\"\n",
    "]\n",
    "def is_sector(naics):\n",
    "    return naics.split()[-1] in naics_sector_codes"
   ]
  },
  {
   "cell_type": "markdown",
   "id": "3b19fb07",
   "metadata": {},
   "source": [
    "## Create an updated df that only contains NAICS sectors (with codes)"
   ]
  },
  {
   "cell_type": "code",
   "execution_count": 220,
   "id": "378d74b8",
   "metadata": {},
   "outputs": [],
   "source": [
    "updated_df = df.drop(df[~df['NAICS'].apply(is_sector)].index)"
   ]
  },
  {
   "cell_type": "code",
   "execution_count": 221,
   "id": "4694e146",
   "metadata": {},
   "outputs": [],
   "source": [
    "updated_df = updated_df.reset_index(drop=True)"
   ]
  },
  {
   "cell_type": "code",
   "execution_count": 222,
   "id": "b080c9c3",
   "metadata": {},
   "outputs": [
    {
     "data": {
      "text/html": [
       "<div>\n",
       "<style scoped>\n",
       "    .dataframe tbody tr th:only-of-type {\n",
       "        vertical-align: middle;\n",
       "    }\n",
       "\n",
       "    .dataframe tbody tr th {\n",
       "        vertical-align: top;\n",
       "    }\n",
       "\n",
       "    .dataframe thead th {\n",
       "        text-align: right;\n",
       "    }\n",
       "</style>\n",
       "<table border=\"1\" class=\"dataframe\">\n",
       "  <thead>\n",
       "    <tr style=\"text-align: right;\">\n",
       "      <th></th>\n",
       "      <th>Date</th>\n",
       "      <th>NAICS</th>\n",
       "      <th>Value</th>\n",
       "    </tr>\n",
       "  </thead>\n",
       "  <tbody>\n",
       "    <tr>\n",
       "      <th>0</th>\n",
       "      <td>2000</td>\n",
       "      <td>Agriculture, forestry, fishing and hunting [11]</td>\n",
       "      <td>23120000000</td>\n",
       "    </tr>\n",
       "    <tr>\n",
       "      <th>1</th>\n",
       "      <td>2000</td>\n",
       "      <td>Mining, quarrying, and oil and gas extraction ...</td>\n",
       "      <td>58615000000</td>\n",
       "    </tr>\n",
       "    <tr>\n",
       "      <th>2</th>\n",
       "      <td>2000</td>\n",
       "      <td>Utilities [22]</td>\n",
       "      <td>26770000000</td>\n",
       "    </tr>\n",
       "    <tr>\n",
       "      <th>3</th>\n",
       "      <td>2000</td>\n",
       "      <td>Construction [23]</td>\n",
       "      <td>51054000000</td>\n",
       "    </tr>\n",
       "    <tr>\n",
       "      <th>4</th>\n",
       "      <td>2000</td>\n",
       "      <td>Manufacturing [31-33]</td>\n",
       "      <td>188303000000</td>\n",
       "    </tr>\n",
       "    <tr>\n",
       "      <th>...</th>\n",
       "      <td>...</td>\n",
       "      <td>...</td>\n",
       "      <td>...</td>\n",
       "    </tr>\n",
       "    <tr>\n",
       "      <th>394</th>\n",
       "      <td>2020</td>\n",
       "      <td>Health care and social assistance [62]</td>\n",
       "      <td>168768000000</td>\n",
       "    </tr>\n",
       "    <tr>\n",
       "      <th>395</th>\n",
       "      <td>2020</td>\n",
       "      <td>Arts, entertainment and recreation [71]</td>\n",
       "      <td>11842000000</td>\n",
       "    </tr>\n",
       "    <tr>\n",
       "      <th>396</th>\n",
       "      <td>2020</td>\n",
       "      <td>Accommodation and food services [72]</td>\n",
       "      <td>31073000000</td>\n",
       "    </tr>\n",
       "    <tr>\n",
       "      <th>397</th>\n",
       "      <td>2020</td>\n",
       "      <td>Other services (except public administration) ...</td>\n",
       "      <td>39930000000</td>\n",
       "    </tr>\n",
       "    <tr>\n",
       "      <th>398</th>\n",
       "      <td>2020</td>\n",
       "      <td>Public administration [91]</td>\n",
       "      <td>158772000000</td>\n",
       "    </tr>\n",
       "  </tbody>\n",
       "</table>\n",
       "<p>399 rows × 3 columns</p>\n",
       "</div>"
      ],
      "text/plain": [
       "     Date                                              NAICS         Value\n",
       "0    2000    Agriculture, forestry, fishing and hunting [11]   23120000000\n",
       "1    2000  Mining, quarrying, and oil and gas extraction ...   58615000000\n",
       "2    2000                                     Utilities [22]   26770000000\n",
       "3    2000                                  Construction [23]   51054000000\n",
       "4    2000                              Manufacturing [31-33]  188303000000\n",
       "..    ...                                                ...           ...\n",
       "394  2020             Health care and social assistance [62]  168768000000\n",
       "395  2020            Arts, entertainment and recreation [71]   11842000000\n",
       "396  2020               Accommodation and food services [72]   31073000000\n",
       "397  2020  Other services (except public administration) ...   39930000000\n",
       "398  2020                         Public administration [91]  158772000000\n",
       "\n",
       "[399 rows x 3 columns]"
      ]
     },
     "execution_count": 222,
     "metadata": {},
     "output_type": "execute_result"
    }
   ],
   "source": [
    "updated_df"
   ]
  },
  {
   "cell_type": "code",
   "execution_count": 223,
   "id": "64b70207",
   "metadata": {},
   "outputs": [
    {
     "data": {
      "text/plain": [
       "array(['Agriculture, forestry, fishing and hunting [11]',\n",
       "       'Mining, quarrying, and oil and gas extraction [21]',\n",
       "       'Utilities [22]', 'Construction [23]', 'Manufacturing [31-33]',\n",
       "       'Retail trade [44-45]', 'Transportation and warehousing [48-49]',\n",
       "       'Information and cultural industries [51]',\n",
       "       'Finance and insurance [52]',\n",
       "       'Real estate and rental and leasing [53]',\n",
       "       'Professional, scientific and technical services [54]',\n",
       "       'Management of companies and enterprises [55]',\n",
       "       'Administrative and support, waste management and remediation services [56]',\n",
       "       'Educational services [61]',\n",
       "       'Health care and social assistance [62]',\n",
       "       'Arts, entertainment and recreation [71]',\n",
       "       'Accommodation and food services [72]',\n",
       "       'Other services (except public administration) [81]',\n",
       "       'Public administration [91]'], dtype=object)"
      ]
     },
     "execution_count": 223,
     "metadata": {},
     "output_type": "execute_result"
    }
   ],
   "source": [
    "updated_df['NAICS'].unique()"
   ]
  },
  {
   "cell_type": "markdown",
   "id": "19ff95b0",
   "metadata": {},
   "source": [
    "## Check if there are any naics duplicates"
   ]
  },
  {
   "cell_type": "code",
   "execution_count": 224,
   "id": "174dce32",
   "metadata": {},
   "outputs": [
    {
     "data": {
      "text/plain": [
       "False"
      ]
     },
     "execution_count": 224,
     "metadata": {},
     "output_type": "execute_result"
    }
   ],
   "source": [
    "duplicated = updated_df.duplicated(subset=['Date', 'NAICS'], keep=False)\n",
    "duplicated.any()"
   ]
  },
  {
   "cell_type": "markdown",
   "id": "e6ce47ed",
   "metadata": {},
   "source": [
    "## Map NAICS to employment NAICS (Merge NAICS with codes 51, 71 together as well as 55, 56)"
   ]
  },
  {
   "cell_type": "code",
   "execution_count": 225,
   "id": "7ff9925d",
   "metadata": {},
   "outputs": [],
   "source": [
    "#Merge NAICS [51], [71] along with [55], [56] and rename NAICS sector\n",
    "updated_df['NAICS'].replace({'Arts, entertainment and recreation [71]': 'Information and cultural industries [51]'}, inplace=True)\n",
    "\n",
    "updated_df['NAICS'].replace({'Administrative and support, waste management and remediation services [56]': 'Management of companies and enterprises [55]'}, inplace=True)\n",
    "\n",
    "\n",
    "df_grouped = updated_df.groupby(['Date', 'NAICS'], as_index=False)['Value'].sum()\n",
    "\n",
    "df_grouped.loc[df_grouped['NAICS'] == 'Information and cultural industries [51]', 'NAICS'] = 'Information, culture and recreation [51, 71]'\n",
    "df_grouped.loc[df_grouped['NAICS'] == 'Management of companies and enterprises [55]', 'NAICS'] = 'Business, building and other support services [55, 56]'\n"
   ]
  },
  {
   "cell_type": "code",
   "execution_count": 226,
   "id": "a963a8d7",
   "metadata": {},
   "outputs": [
    {
     "data": {
      "text/html": [
       "<div>\n",
       "<style scoped>\n",
       "    .dataframe tbody tr th:only-of-type {\n",
       "        vertical-align: middle;\n",
       "    }\n",
       "\n",
       "    .dataframe tbody tr th {\n",
       "        vertical-align: top;\n",
       "    }\n",
       "\n",
       "    .dataframe thead th {\n",
       "        text-align: right;\n",
       "    }\n",
       "</style>\n",
       "<table border=\"1\" class=\"dataframe\">\n",
       "  <thead>\n",
       "    <tr style=\"text-align: right;\">\n",
       "      <th></th>\n",
       "      <th>Date</th>\n",
       "      <th>NAICS</th>\n",
       "      <th>Value</th>\n",
       "    </tr>\n",
       "  </thead>\n",
       "  <tbody>\n",
       "    <tr>\n",
       "      <th>0</th>\n",
       "      <td>2000</td>\n",
       "      <td>Accommodation and food services [72]</td>\n",
       "      <td>22863000000</td>\n",
       "    </tr>\n",
       "    <tr>\n",
       "      <th>1</th>\n",
       "      <td>2000</td>\n",
       "      <td>Agriculture, forestry, fishing and hunting [11]</td>\n",
       "      <td>23120000000</td>\n",
       "    </tr>\n",
       "    <tr>\n",
       "      <th>2</th>\n",
       "      <td>2000</td>\n",
       "      <td>Construction [23]</td>\n",
       "      <td>51054000000</td>\n",
       "    </tr>\n",
       "    <tr>\n",
       "      <th>3</th>\n",
       "      <td>2000</td>\n",
       "      <td>Educational services [61]</td>\n",
       "      <td>51839000000</td>\n",
       "    </tr>\n",
       "    <tr>\n",
       "      <th>4</th>\n",
       "      <td>2000</td>\n",
       "      <td>Finance and insurance [52]</td>\n",
       "      <td>62648000000</td>\n",
       "    </tr>\n",
       "    <tr>\n",
       "      <th>...</th>\n",
       "      <td>...</td>\n",
       "      <td>...</td>\n",
       "      <td>...</td>\n",
       "    </tr>\n",
       "    <tr>\n",
       "      <th>352</th>\n",
       "      <td>2020</td>\n",
       "      <td>Public administration [91]</td>\n",
       "      <td>158772000000</td>\n",
       "    </tr>\n",
       "    <tr>\n",
       "      <th>353</th>\n",
       "      <td>2020</td>\n",
       "      <td>Real estate and rental and leasing [53]</td>\n",
       "      <td>293886000000</td>\n",
       "    </tr>\n",
       "    <tr>\n",
       "      <th>354</th>\n",
       "      <td>2020</td>\n",
       "      <td>Retail trade [44-45]</td>\n",
       "      <td>106641000000</td>\n",
       "    </tr>\n",
       "    <tr>\n",
       "      <th>355</th>\n",
       "      <td>2020</td>\n",
       "      <td>Transportation and warehousing [48-49]</td>\n",
       "      <td>95339000000</td>\n",
       "    </tr>\n",
       "    <tr>\n",
       "      <th>356</th>\n",
       "      <td>2020</td>\n",
       "      <td>Utilities [22]</td>\n",
       "      <td>50976000000</td>\n",
       "    </tr>\n",
       "  </tbody>\n",
       "</table>\n",
       "<p>357 rows × 3 columns</p>\n",
       "</div>"
      ],
      "text/plain": [
       "     Date                                            NAICS         Value\n",
       "0    2000             Accommodation and food services [72]   22863000000\n",
       "1    2000  Agriculture, forestry, fishing and hunting [11]   23120000000\n",
       "2    2000                                Construction [23]   51054000000\n",
       "3    2000                        Educational services [61]   51839000000\n",
       "4    2000                       Finance and insurance [52]   62648000000\n",
       "..    ...                                              ...           ...\n",
       "352  2020                       Public administration [91]  158772000000\n",
       "353  2020          Real estate and rental and leasing [53]  293886000000\n",
       "354  2020                             Retail trade [44-45]  106641000000\n",
       "355  2020           Transportation and warehousing [48-49]   95339000000\n",
       "356  2020                                   Utilities [22]   50976000000\n",
       "\n",
       "[357 rows x 3 columns]"
      ]
     },
     "execution_count": 226,
     "metadata": {},
     "output_type": "execute_result"
    }
   ],
   "source": [
    "df_grouped"
   ]
  },
  {
   "cell_type": "code",
   "execution_count": 227,
   "id": "03ccfbb6",
   "metadata": {},
   "outputs": [
    {
     "data": {
      "text/plain": [
       "21052000000"
      ]
     },
     "execution_count": 227,
     "metadata": {},
     "output_type": "execute_result"
    }
   ],
   "source": [
    "df_grouped['Value'].min()"
   ]
  },
  {
   "cell_type": "markdown",
   "id": "0a128360",
   "metadata": {},
   "source": [
    "## Check if any values are 0"
   ]
  },
  {
   "cell_type": "code",
   "execution_count": 228,
   "id": "e6cf91c4",
   "metadata": {},
   "outputs": [
    {
     "data": {
      "text/html": [
       "<div>\n",
       "<style scoped>\n",
       "    .dataframe tbody tr th:only-of-type {\n",
       "        vertical-align: middle;\n",
       "    }\n",
       "\n",
       "    .dataframe tbody tr th {\n",
       "        vertical-align: top;\n",
       "    }\n",
       "\n",
       "    .dataframe thead th {\n",
       "        text-align: right;\n",
       "    }\n",
       "</style>\n",
       "<table border=\"1\" class=\"dataframe\">\n",
       "  <thead>\n",
       "    <tr style=\"text-align: right;\">\n",
       "      <th></th>\n",
       "      <th>Date</th>\n",
       "      <th>NAICS</th>\n",
       "      <th>Value</th>\n",
       "    </tr>\n",
       "  </thead>\n",
       "  <tbody>\n",
       "  </tbody>\n",
       "</table>\n",
       "</div>"
      ],
      "text/plain": [
       "Empty DataFrame\n",
       "Columns: [Date, NAICS, Value]\n",
       "Index: []"
      ]
     },
     "execution_count": 228,
     "metadata": {},
     "output_type": "execute_result"
    }
   ],
   "source": [
    "df_grouped[df_grouped['Value'] == 0]"
   ]
  },
  {
   "cell_type": "markdown",
   "id": "71f309ad",
   "metadata": {},
   "source": [
    "# Binning the Dataframe"
   ]
  },
  {
   "cell_type": "code",
   "execution_count": 229,
   "id": "3a301390",
   "metadata": {},
   "outputs": [
    {
     "data": {
      "text/html": [
       "<div>\n",
       "<style scoped>\n",
       "    .dataframe tbody tr th:only-of-type {\n",
       "        vertical-align: middle;\n",
       "    }\n",
       "\n",
       "    .dataframe tbody tr th {\n",
       "        vertical-align: top;\n",
       "    }\n",
       "\n",
       "    .dataframe thead th {\n",
       "        text-align: right;\n",
       "    }\n",
       "</style>\n",
       "<table border=\"1\" class=\"dataframe\">\n",
       "  <thead>\n",
       "    <tr style=\"text-align: right;\">\n",
       "      <th></th>\n",
       "      <th>Date</th>\n",
       "      <th>NAICS</th>\n",
       "      <th>Value</th>\n",
       "      <th>Value Binned</th>\n",
       "    </tr>\n",
       "  </thead>\n",
       "  <tbody>\n",
       "    <tr>\n",
       "      <th>0</th>\n",
       "      <td>2000</td>\n",
       "      <td>Accommodation and food services [72]</td>\n",
       "      <td>22863000000</td>\n",
       "      <td>(21000000000.0, 49000000000.0]</td>\n",
       "    </tr>\n",
       "    <tr>\n",
       "      <th>1</th>\n",
       "      <td>2000</td>\n",
       "      <td>Agriculture, forestry, fishing and hunting [11]</td>\n",
       "      <td>23120000000</td>\n",
       "      <td>(21000000000.0, 49000000000.0]</td>\n",
       "    </tr>\n",
       "    <tr>\n",
       "      <th>2</th>\n",
       "      <td>2000</td>\n",
       "      <td>Construction [23]</td>\n",
       "      <td>51054000000</td>\n",
       "      <td>(49000000000.0, 76000000000.0]</td>\n",
       "    </tr>\n",
       "    <tr>\n",
       "      <th>3</th>\n",
       "      <td>2000</td>\n",
       "      <td>Educational services [61]</td>\n",
       "      <td>51839000000</td>\n",
       "      <td>(49000000000.0, 76000000000.0]</td>\n",
       "    </tr>\n",
       "    <tr>\n",
       "      <th>4</th>\n",
       "      <td>2000</td>\n",
       "      <td>Finance and insurance [52]</td>\n",
       "      <td>62648000000</td>\n",
       "      <td>(49000000000.0, 76000000000.0]</td>\n",
       "    </tr>\n",
       "    <tr>\n",
       "      <th>...</th>\n",
       "      <td>...</td>\n",
       "      <td>...</td>\n",
       "      <td>...</td>\n",
       "      <td>...</td>\n",
       "    </tr>\n",
       "    <tr>\n",
       "      <th>352</th>\n",
       "      <td>2020</td>\n",
       "      <td>Public administration [91]</td>\n",
       "      <td>158772000000</td>\n",
       "      <td>(158000000000.0, 185000000000.0]</td>\n",
       "    </tr>\n",
       "    <tr>\n",
       "      <th>353</th>\n",
       "      <td>2020</td>\n",
       "      <td>Real estate and rental and leasing [53]</td>\n",
       "      <td>293886000000</td>\n",
       "      <td>(267000000000.0, 294000000000.0]</td>\n",
       "    </tr>\n",
       "    <tr>\n",
       "      <th>354</th>\n",
       "      <td>2020</td>\n",
       "      <td>Retail trade [44-45]</td>\n",
       "      <td>106641000000</td>\n",
       "      <td>(103000000000.0, 131000000000.0]</td>\n",
       "    </tr>\n",
       "    <tr>\n",
       "      <th>355</th>\n",
       "      <td>2020</td>\n",
       "      <td>Transportation and warehousing [48-49]</td>\n",
       "      <td>95339000000</td>\n",
       "      <td>(76000000000.0, 103000000000.0]</td>\n",
       "    </tr>\n",
       "    <tr>\n",
       "      <th>356</th>\n",
       "      <td>2020</td>\n",
       "      <td>Utilities [22]</td>\n",
       "      <td>50976000000</td>\n",
       "      <td>(49000000000.0, 76000000000.0]</td>\n",
       "    </tr>\n",
       "  </tbody>\n",
       "</table>\n",
       "<p>357 rows × 4 columns</p>\n",
       "</div>"
      ],
      "text/plain": [
       "     Date                                            NAICS         Value  \\\n",
       "0    2000             Accommodation and food services [72]   22863000000   \n",
       "1    2000  Agriculture, forestry, fishing and hunting [11]   23120000000   \n",
       "2    2000                                Construction [23]   51054000000   \n",
       "3    2000                        Educational services [61]   51839000000   \n",
       "4    2000                       Finance and insurance [52]   62648000000   \n",
       "..    ...                                              ...           ...   \n",
       "352  2020                       Public administration [91]  158772000000   \n",
       "353  2020          Real estate and rental and leasing [53]  293886000000   \n",
       "354  2020                             Retail trade [44-45]  106641000000   \n",
       "355  2020           Transportation and warehousing [48-49]   95339000000   \n",
       "356  2020                                   Utilities [22]   50976000000   \n",
       "\n",
       "                         Value Binned  \n",
       "0      (21000000000.0, 49000000000.0]  \n",
       "1      (21000000000.0, 49000000000.0]  \n",
       "2      (49000000000.0, 76000000000.0]  \n",
       "3      (49000000000.0, 76000000000.0]  \n",
       "4      (49000000000.0, 76000000000.0]  \n",
       "..                                ...  \n",
       "352  (158000000000.0, 185000000000.0]  \n",
       "353  (267000000000.0, 294000000000.0]  \n",
       "354  (103000000000.0, 131000000000.0]  \n",
       "355   (76000000000.0, 103000000000.0]  \n",
       "356    (49000000000.0, 76000000000.0]  \n",
       "\n",
       "[357 rows x 4 columns]"
      ]
     },
     "execution_count": 229,
     "metadata": {},
     "output_type": "execute_result"
    }
   ],
   "source": [
    "bin_edges = pd.cut(df_grouped['Value'], bins=10, retbins=True)[1]\n",
    "bin_edges = np.ceil(bin_edges / 1e9) * 1e9\n",
    "df_grouped['Value Binned'] = pd.cut(df_grouped['Value'], bins=bin_edges)\n",
    "df_grouped"
   ]
  },
  {
   "cell_type": "markdown",
   "id": "51ec4af2",
   "metadata": {},
   "source": [
    "## Export the updated dataframe to CSV"
   ]
  },
  {
   "cell_type": "code",
   "execution_count": 230,
   "id": "c755d689",
   "metadata": {},
   "outputs": [],
   "source": [
    "df_grouped.to_csv('data/cleaned_gdp.csv', index=False)"
   ]
  }
 ],
 "metadata": {
  "kernelspec": {
   "display_name": "Python 3 (ipykernel)",
   "language": "python",
   "name": "python3"
  },
  "language_info": {
   "codemirror_mode": {
    "name": "ipython",
    "version": 3
   },
   "file_extension": ".py",
   "mimetype": "text/x-python",
   "name": "python",
   "nbconvert_exporter": "python",
   "pygments_lexer": "ipython3",
   "version": "3.8.10"
  }
 },
 "nbformat": 4,
 "nbformat_minor": 5
}
