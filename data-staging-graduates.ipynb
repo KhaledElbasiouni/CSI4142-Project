{
 "cells": [
  {
   "cell_type": "code",
   "execution_count": 130,
   "id": "d0ed40fc",
   "metadata": {},
   "outputs": [],
   "source": [
    "# Data Staging for graduates Data"
   ]
  },
  {
   "cell_type": "code",
   "execution_count": 131,
   "id": "7be99b17",
   "metadata": {},
   "outputs": [],
   "source": [
    "## Importing Libraries and Reading the Data"
   ]
  },
  {
   "cell_type": "code",
   "execution_count": 132,
   "id": "817aff1b",
   "metadata": {},
   "outputs": [],
   "source": [
    "import pandas as pd\n",
    "\n",
    "df = pd.read_csv('data/raw_graduates.csv')"
   ]
  },
  {
   "cell_type": "code",
   "execution_count": 133,
   "id": "dd5b4ed6",
   "metadata": {},
   "outputs": [],
   "source": [
    "## Previewing the Dataset"
   ]
  },
  {
   "cell_type": "code",
   "execution_count": 134,
   "id": "bcbb9ba7",
   "metadata": {},
   "outputs": [
    {
     "data": {
      "text/html": [
       "<div>\n",
       "<style scoped>\n",
       "    .dataframe tbody tr th:only-of-type {\n",
       "        vertical-align: middle;\n",
       "    }\n",
       "\n",
       "    .dataframe tbody tr th {\n",
       "        vertical-align: top;\n",
       "    }\n",
       "\n",
       "    .dataframe thead th {\n",
       "        text-align: right;\n",
       "    }\n",
       "</style>\n",
       "<table border=\"1\" class=\"dataframe\">\n",
       "  <thead>\n",
       "    <tr style=\"text-align: right;\">\n",
       "      <th></th>\n",
       "      <th>REF_DATE</th>\n",
       "      <th>GEO</th>\n",
       "      <th>DGUID</th>\n",
       "      <th>Institution type</th>\n",
       "      <th>Program type</th>\n",
       "      <th>Credential type</th>\n",
       "      <th>Field of study</th>\n",
       "      <th>Gender</th>\n",
       "      <th>UOM</th>\n",
       "      <th>UOM_ID</th>\n",
       "      <th>SCALAR_FACTOR</th>\n",
       "      <th>SCALAR_ID</th>\n",
       "      <th>VECTOR</th>\n",
       "      <th>COORDINATE</th>\n",
       "      <th>VALUE</th>\n",
       "      <th>STATUS</th>\n",
       "      <th>SYMBOL</th>\n",
       "      <th>TERMINATED</th>\n",
       "      <th>DECIMALS</th>\n",
       "    </tr>\n",
       "  </thead>\n",
       "  <tbody>\n",
       "    <tr>\n",
       "      <th>0</th>\n",
       "      <td>1992</td>\n",
       "      <td>Canada</td>\n",
       "      <td>2016A000011124</td>\n",
       "      <td>Total, institution type</td>\n",
       "      <td>Total, program type</td>\n",
       "      <td>Total, credential type</td>\n",
       "      <td>Total, field of study</td>\n",
       "      <td>Total, gender</td>\n",
       "      <td>Number</td>\n",
       "      <td>223</td>\n",
       "      <td>units</td>\n",
       "      <td>0</td>\n",
       "      <td>v79575621</td>\n",
       "      <td>1.1.1.1.1.1</td>\n",
       "      <td>235932.0</td>\n",
       "      <td>NaN</td>\n",
       "      <td>NaN</td>\n",
       "      <td>NaN</td>\n",
       "      <td>0</td>\n",
       "    </tr>\n",
       "    <tr>\n",
       "      <th>1</th>\n",
       "      <td>1992</td>\n",
       "      <td>Canada</td>\n",
       "      <td>2016A000011124</td>\n",
       "      <td>Total, institution type</td>\n",
       "      <td>Total, program type</td>\n",
       "      <td>Total, credential type</td>\n",
       "      <td>Total, field of study</td>\n",
       "      <td>Man</td>\n",
       "      <td>Number</td>\n",
       "      <td>223</td>\n",
       "      <td>units</td>\n",
       "      <td>0</td>\n",
       "      <td>v79575622</td>\n",
       "      <td>1.1.1.1.1.2</td>\n",
       "      <td>101733.0</td>\n",
       "      <td>NaN</td>\n",
       "      <td>NaN</td>\n",
       "      <td>NaN</td>\n",
       "      <td>0</td>\n",
       "    </tr>\n",
       "    <tr>\n",
       "      <th>2</th>\n",
       "      <td>1992</td>\n",
       "      <td>Canada</td>\n",
       "      <td>2016A000011124</td>\n",
       "      <td>Total, institution type</td>\n",
       "      <td>Total, program type</td>\n",
       "      <td>Total, credential type</td>\n",
       "      <td>Total, field of study</td>\n",
       "      <td>Woman</td>\n",
       "      <td>Number</td>\n",
       "      <td>223</td>\n",
       "      <td>units</td>\n",
       "      <td>0</td>\n",
       "      <td>v79575623</td>\n",
       "      <td>1.1.1.1.1.3</td>\n",
       "      <td>134196.0</td>\n",
       "      <td>NaN</td>\n",
       "      <td>NaN</td>\n",
       "      <td>NaN</td>\n",
       "      <td>0</td>\n",
       "    </tr>\n",
       "    <tr>\n",
       "      <th>3</th>\n",
       "      <td>1992</td>\n",
       "      <td>Canada</td>\n",
       "      <td>2016A000011124</td>\n",
       "      <td>Total, institution type</td>\n",
       "      <td>Total, program type</td>\n",
       "      <td>Total, credential type</td>\n",
       "      <td>Total, field of study</td>\n",
       "      <td>Gender unknown</td>\n",
       "      <td>Number</td>\n",
       "      <td>223</td>\n",
       "      <td>units</td>\n",
       "      <td>0</td>\n",
       "      <td>v79575624</td>\n",
       "      <td>1.1.1.1.1.4</td>\n",
       "      <td>NaN</td>\n",
       "      <td>..</td>\n",
       "      <td>NaN</td>\n",
       "      <td>NaN</td>\n",
       "      <td>0</td>\n",
       "    </tr>\n",
       "    <tr>\n",
       "      <th>4</th>\n",
       "      <td>1992</td>\n",
       "      <td>Canada</td>\n",
       "      <td>2016A000011124</td>\n",
       "      <td>Total, institution type</td>\n",
       "      <td>Total, program type</td>\n",
       "      <td>Total, credential type</td>\n",
       "      <td>Personal improvement and leisure [0]</td>\n",
       "      <td>Total, gender</td>\n",
       "      <td>Number</td>\n",
       "      <td>223</td>\n",
       "      <td>units</td>\n",
       "      <td>0</td>\n",
       "      <td>v79575625</td>\n",
       "      <td>1.1.1.1.2.1</td>\n",
       "      <td>12.0</td>\n",
       "      <td>NaN</td>\n",
       "      <td>NaN</td>\n",
       "      <td>NaN</td>\n",
       "      <td>0</td>\n",
       "    </tr>\n",
       "  </tbody>\n",
       "</table>\n",
       "</div>"
      ],
      "text/plain": [
       "   REF_DATE     GEO           DGUID         Institution type  \\\n",
       "0      1992  Canada  2016A000011124  Total, institution type   \n",
       "1      1992  Canada  2016A000011124  Total, institution type   \n",
       "2      1992  Canada  2016A000011124  Total, institution type   \n",
       "3      1992  Canada  2016A000011124  Total, institution type   \n",
       "4      1992  Canada  2016A000011124  Total, institution type   \n",
       "\n",
       "          Program type         Credential type  \\\n",
       "0  Total, program type  Total, credential type   \n",
       "1  Total, program type  Total, credential type   \n",
       "2  Total, program type  Total, credential type   \n",
       "3  Total, program type  Total, credential type   \n",
       "4  Total, program type  Total, credential type   \n",
       "\n",
       "                         Field of study          Gender     UOM  UOM_ID  \\\n",
       "0                 Total, field of study   Total, gender  Number     223   \n",
       "1                 Total, field of study             Man  Number     223   \n",
       "2                 Total, field of study           Woman  Number     223   \n",
       "3                 Total, field of study  Gender unknown  Number     223   \n",
       "4  Personal improvement and leisure [0]   Total, gender  Number     223   \n",
       "\n",
       "  SCALAR_FACTOR  SCALAR_ID     VECTOR   COORDINATE     VALUE STATUS  SYMBOL  \\\n",
       "0         units          0  v79575621  1.1.1.1.1.1  235932.0    NaN     NaN   \n",
       "1         units          0  v79575622  1.1.1.1.1.2  101733.0    NaN     NaN   \n",
       "2         units          0  v79575623  1.1.1.1.1.3  134196.0    NaN     NaN   \n",
       "3         units          0  v79575624  1.1.1.1.1.4       NaN     ..     NaN   \n",
       "4         units          0  v79575625  1.1.1.1.2.1      12.0    NaN     NaN   \n",
       "\n",
       "   TERMINATED  DECIMALS  \n",
       "0         NaN         0  \n",
       "1         NaN         0  \n",
       "2         NaN         0  \n",
       "3         NaN         0  \n",
       "4         NaN         0  "
      ]
     },
     "execution_count": 134,
     "metadata": {},
     "output_type": "execute_result"
    }
   ],
   "source": [
    "df.head()"
   ]
  },
  {
   "cell_type": "markdown",
   "id": "f8e2aaf6",
   "metadata": {},
   "source": [
    "## Unique Values in Each Column"
   ]
  },
  {
   "cell_type": "code",
   "execution_count": 135,
   "id": "9e81d170",
   "metadata": {},
   "outputs": [
    {
     "data": {
      "text/plain": [
       "GEO                 [Canada, Newfoundland and Labrador, Prince Edw...\n",
       "DGUID               [2016A000011124, 2016A000210, 2016A000211, 201...\n",
       "UOM                                                          [Number]\n",
       "Institution type       [Total, institution type, University, College]\n",
       "Program type        [Total, program type, Basic education and skil...\n",
       "Credential type     [Total, credential type, General Equivalency D...\n",
       "Field of study      [Total, field of study, Personal improvement a...\n",
       "Gender                    [Total, gender, Man, Woman, Gender unknown]\n",
       "UOM_ID                                                          [223]\n",
       "SCALAR_FACTOR                                                 [units]\n",
       "SCALAR_ID                                                         [0]\n",
       "VECTOR              [v79575621, v79575622, v79575623, v79575624, v...\n",
       "COORDINATE          [1.1.1.1.1.1, 1.1.1.1.1.2, 1.1.1.1.1.3, 1.1.1....\n",
       "VALUE               [235932.0, 101733.0, 134196.0, nan, 12.0, 0.0,...\n",
       "STATUS                                                      [nan, ..]\n",
       "SYMBOL                                                          [nan]\n",
       "TERMINATED                                                      [nan]\n",
       "DECIMALS                                                          [0]\n",
       "dtype: object"
      ]
     },
     "execution_count": 135,
     "metadata": {},
     "output_type": "execute_result"
    }
   ],
   "source": [
    "unique_values = df[['GEO', 'DGUID', 'UOM','Institution type', 'Program type', 'Credential type', 'Field of study', 'Gender', 'UOM_ID','SCALAR_FACTOR', 'SCALAR_ID', 'VECTOR' , 'COORDINATE', 'VALUE', 'STATUS', 'SYMBOL', 'TERMINATED', 'DECIMALS']].apply(lambda x: x.unique())\n",
    "unique_values"
   ]
  },
  {
   "cell_type": "markdown",
   "id": "4082db90",
   "metadata": {},
   "source": [
    "## Dropping Unnecessary Columns"
   ]
  },
  {
   "cell_type": "code",
   "execution_count": 136,
   "id": "1cbdc4cc",
   "metadata": {},
   "outputs": [],
   "source": [
    "df = df.drop(columns=['GEO', 'DGUID', 'UOM', 'UOM_ID', 'SCALAR_FACTOR',  'SCALAR_ID', 'VECTOR', 'COORDINATE', 'STATUS', 'SYMBOL', 'SYMBOL', 'TERMINATED', 'DECIMALS'])"
   ]
  },
  {
   "cell_type": "code",
   "execution_count": 137,
   "id": "602f87fa",
   "metadata": {},
   "outputs": [
    {
     "data": {
      "text/html": [
       "<div>\n",
       "<style scoped>\n",
       "    .dataframe tbody tr th:only-of-type {\n",
       "        vertical-align: middle;\n",
       "    }\n",
       "\n",
       "    .dataframe tbody tr th {\n",
       "        vertical-align: top;\n",
       "    }\n",
       "\n",
       "    .dataframe thead th {\n",
       "        text-align: right;\n",
       "    }\n",
       "</style>\n",
       "<table border=\"1\" class=\"dataframe\">\n",
       "  <thead>\n",
       "    <tr style=\"text-align: right;\">\n",
       "      <th></th>\n",
       "      <th>REF_DATE</th>\n",
       "      <th>Institution type</th>\n",
       "      <th>Program type</th>\n",
       "      <th>Credential type</th>\n",
       "      <th>Field of study</th>\n",
       "      <th>Gender</th>\n",
       "      <th>VALUE</th>\n",
       "    </tr>\n",
       "  </thead>\n",
       "  <tbody>\n",
       "    <tr>\n",
       "      <th>0</th>\n",
       "      <td>1992</td>\n",
       "      <td>Total, institution type</td>\n",
       "      <td>Total, program type</td>\n",
       "      <td>Total, credential type</td>\n",
       "      <td>Total, field of study</td>\n",
       "      <td>Total, gender</td>\n",
       "      <td>235932.0</td>\n",
       "    </tr>\n",
       "    <tr>\n",
       "      <th>1</th>\n",
       "      <td>1992</td>\n",
       "      <td>Total, institution type</td>\n",
       "      <td>Total, program type</td>\n",
       "      <td>Total, credential type</td>\n",
       "      <td>Total, field of study</td>\n",
       "      <td>Man</td>\n",
       "      <td>101733.0</td>\n",
       "    </tr>\n",
       "    <tr>\n",
       "      <th>2</th>\n",
       "      <td>1992</td>\n",
       "      <td>Total, institution type</td>\n",
       "      <td>Total, program type</td>\n",
       "      <td>Total, credential type</td>\n",
       "      <td>Total, field of study</td>\n",
       "      <td>Woman</td>\n",
       "      <td>134196.0</td>\n",
       "    </tr>\n",
       "    <tr>\n",
       "      <th>3</th>\n",
       "      <td>1992</td>\n",
       "      <td>Total, institution type</td>\n",
       "      <td>Total, program type</td>\n",
       "      <td>Total, credential type</td>\n",
       "      <td>Total, field of study</td>\n",
       "      <td>Gender unknown</td>\n",
       "      <td>NaN</td>\n",
       "    </tr>\n",
       "    <tr>\n",
       "      <th>4</th>\n",
       "      <td>1992</td>\n",
       "      <td>Total, institution type</td>\n",
       "      <td>Total, program type</td>\n",
       "      <td>Total, credential type</td>\n",
       "      <td>Personal improvement and leisure [0]</td>\n",
       "      <td>Total, gender</td>\n",
       "      <td>12.0</td>\n",
       "    </tr>\n",
       "  </tbody>\n",
       "</table>\n",
       "</div>"
      ],
      "text/plain": [
       "   REF_DATE         Institution type         Program type  \\\n",
       "0      1992  Total, institution type  Total, program type   \n",
       "1      1992  Total, institution type  Total, program type   \n",
       "2      1992  Total, institution type  Total, program type   \n",
       "3      1992  Total, institution type  Total, program type   \n",
       "4      1992  Total, institution type  Total, program type   \n",
       "\n",
       "          Credential type                        Field of study  \\\n",
       "0  Total, credential type                 Total, field of study   \n",
       "1  Total, credential type                 Total, field of study   \n",
       "2  Total, credential type                 Total, field of study   \n",
       "3  Total, credential type                 Total, field of study   \n",
       "4  Total, credential type  Personal improvement and leisure [0]   \n",
       "\n",
       "           Gender     VALUE  \n",
       "0   Total, gender  235932.0  \n",
       "1             Man  101733.0  \n",
       "2           Woman  134196.0  \n",
       "3  Gender unknown       NaN  \n",
       "4   Total, gender      12.0  "
      ]
     },
     "execution_count": 137,
     "metadata": {},
     "output_type": "execute_result"
    }
   ],
   "source": [
    "df.head()"
   ]
  },
  {
   "cell_type": "markdown",
   "id": "1f58a2a8",
   "metadata": {},
   "source": [
    "## Renaming Columns for Clarity and Simplicity"
   ]
  },
  {
   "cell_type": "code",
   "execution_count": 138,
   "id": "5e6ceac1",
   "metadata": {},
   "outputs": [],
   "source": [
    "df = df.rename(columns={'REF_DATE': 'Date'})"
   ]
  },
  {
   "cell_type": "code",
   "execution_count": 139,
   "id": "e347809f",
   "metadata": {},
   "outputs": [
    {
     "data": {
      "text/plain": [
       "Date                  int64\n",
       "Institution type     object\n",
       "Program type         object\n",
       "Credential type      object\n",
       "Field of study       object\n",
       "Gender               object\n",
       "VALUE               float64\n",
       "dtype: object"
      ]
     },
     "execution_count": 139,
     "metadata": {},
     "output_type": "execute_result"
    }
   ],
   "source": [
    "df.dtypes"
   ]
  },
  {
   "cell_type": "markdown",
   "id": "7d0278fa",
   "metadata": {},
   "source": [
    "## Remove any totals to be as detailed as possible"
   ]
  },
  {
   "cell_type": "code",
   "execution_count": 140,
   "id": "419b15ff",
   "metadata": {},
   "outputs": [],
   "source": [
    "# Function to check if a record contains any totals\n",
    "def check_total(record):\n",
    "    return record.split(', ')[0] == 'Total'"
   ]
  },
  {
   "cell_type": "code",
   "execution_count": 141,
   "id": "d33d272a",
   "metadata": {},
   "outputs": [
    {
     "data": {
      "text/html": [
       "<div>\n",
       "<style scoped>\n",
       "    .dataframe tbody tr th:only-of-type {\n",
       "        vertical-align: middle;\n",
       "    }\n",
       "\n",
       "    .dataframe tbody tr th {\n",
       "        vertical-align: top;\n",
       "    }\n",
       "\n",
       "    .dataframe thead th {\n",
       "        text-align: right;\n",
       "    }\n",
       "</style>\n",
       "<table border=\"1\" class=\"dataframe\">\n",
       "  <thead>\n",
       "    <tr style=\"text-align: right;\">\n",
       "      <th></th>\n",
       "      <th>Date</th>\n",
       "      <th>Institution type</th>\n",
       "      <th>Program type</th>\n",
       "      <th>Credential type</th>\n",
       "      <th>Field of study</th>\n",
       "      <th>Gender</th>\n",
       "      <th>VALUE</th>\n",
       "    </tr>\n",
       "  </thead>\n",
       "  <tbody>\n",
       "    <tr>\n",
       "      <th>0</th>\n",
       "      <td>1992</td>\n",
       "      <td>University</td>\n",
       "      <td>Basic education and skills program</td>\n",
       "      <td>General Equivalency Diploma/high school diploma</td>\n",
       "      <td>Other  [12]</td>\n",
       "      <td>Man</td>\n",
       "      <td>NaN</td>\n",
       "    </tr>\n",
       "    <tr>\n",
       "      <th>1</th>\n",
       "      <td>1992</td>\n",
       "      <td>University</td>\n",
       "      <td>Basic education and skills program</td>\n",
       "      <td>General Equivalency Diploma/high school diploma</td>\n",
       "      <td>Other  [12]</td>\n",
       "      <td>Woman</td>\n",
       "      <td>NaN</td>\n",
       "    </tr>\n",
       "    <tr>\n",
       "      <th>2</th>\n",
       "      <td>1992</td>\n",
       "      <td>University</td>\n",
       "      <td>Basic education and skills program</td>\n",
       "      <td>Certificate</td>\n",
       "      <td>Other  [12]</td>\n",
       "      <td>Man</td>\n",
       "      <td>NaN</td>\n",
       "    </tr>\n",
       "    <tr>\n",
       "      <th>3</th>\n",
       "      <td>1992</td>\n",
       "      <td>University</td>\n",
       "      <td>Basic education and skills program</td>\n",
       "      <td>Certificate</td>\n",
       "      <td>Other  [12]</td>\n",
       "      <td>Woman</td>\n",
       "      <td>NaN</td>\n",
       "    </tr>\n",
       "    <tr>\n",
       "      <th>4</th>\n",
       "      <td>1992</td>\n",
       "      <td>University</td>\n",
       "      <td>Basic education and skills program</td>\n",
       "      <td>Attestation and other short program credentials</td>\n",
       "      <td>Personal improvement and leisure [0]</td>\n",
       "      <td>Man</td>\n",
       "      <td>NaN</td>\n",
       "    </tr>\n",
       "    <tr>\n",
       "      <th>...</th>\n",
       "      <td>...</td>\n",
       "      <td>...</td>\n",
       "      <td>...</td>\n",
       "      <td>...</td>\n",
       "      <td>...</td>\n",
       "      <td>...</td>\n",
       "      <td>...</td>\n",
       "    </tr>\n",
       "    <tr>\n",
       "      <th>130103</th>\n",
       "      <td>2021</td>\n",
       "      <td>College</td>\n",
       "      <td>Undergraduate program</td>\n",
       "      <td>Diploma</td>\n",
       "      <td>Agriculture, natural resources and conservatio...</td>\n",
       "      <td>Woman</td>\n",
       "      <td>0.0</td>\n",
       "    </tr>\n",
       "    <tr>\n",
       "      <th>130104</th>\n",
       "      <td>2021</td>\n",
       "      <td>College</td>\n",
       "      <td>Other programs</td>\n",
       "      <td>Certificate</td>\n",
       "      <td>Education [1]</td>\n",
       "      <td>Man</td>\n",
       "      <td>3.0</td>\n",
       "    </tr>\n",
       "    <tr>\n",
       "      <th>130105</th>\n",
       "      <td>2021</td>\n",
       "      <td>College</td>\n",
       "      <td>Other programs</td>\n",
       "      <td>Certificate</td>\n",
       "      <td>Education [1]</td>\n",
       "      <td>Woman</td>\n",
       "      <td>0.0</td>\n",
       "    </tr>\n",
       "    <tr>\n",
       "      <th>130106</th>\n",
       "      <td>2021</td>\n",
       "      <td>College</td>\n",
       "      <td>Other programs</td>\n",
       "      <td>Diploma</td>\n",
       "      <td>Business, management and public administration...</td>\n",
       "      <td>Man</td>\n",
       "      <td>3.0</td>\n",
       "    </tr>\n",
       "    <tr>\n",
       "      <th>130107</th>\n",
       "      <td>2021</td>\n",
       "      <td>College</td>\n",
       "      <td>Other programs</td>\n",
       "      <td>Diploma</td>\n",
       "      <td>Business, management and public administration...</td>\n",
       "      <td>Woman</td>\n",
       "      <td>3.0</td>\n",
       "    </tr>\n",
       "  </tbody>\n",
       "</table>\n",
       "<p>130108 rows × 7 columns</p>\n",
       "</div>"
      ],
      "text/plain": [
       "        Date Institution type                        Program type  \\\n",
       "0       1992       University  Basic education and skills program   \n",
       "1       1992       University  Basic education and skills program   \n",
       "2       1992       University  Basic education and skills program   \n",
       "3       1992       University  Basic education and skills program   \n",
       "4       1992       University  Basic education and skills program   \n",
       "...      ...              ...                                 ...   \n",
       "130103  2021          College               Undergraduate program   \n",
       "130104  2021          College                      Other programs   \n",
       "130105  2021          College                      Other programs   \n",
       "130106  2021          College                      Other programs   \n",
       "130107  2021          College                      Other programs   \n",
       "\n",
       "                                        Credential type  \\\n",
       "0       General Equivalency Diploma/high school diploma   \n",
       "1       General Equivalency Diploma/high school diploma   \n",
       "2                                           Certificate   \n",
       "3                                           Certificate   \n",
       "4       Attestation and other short program credentials   \n",
       "...                                                 ...   \n",
       "130103                                          Diploma   \n",
       "130104                                      Certificate   \n",
       "130105                                      Certificate   \n",
       "130106                                          Diploma   \n",
       "130107                                          Diploma   \n",
       "\n",
       "                                           Field of study Gender  VALUE  \n",
       "0                                             Other  [12]    Man    NaN  \n",
       "1                                             Other  [12]  Woman    NaN  \n",
       "2                                             Other  [12]    Man    NaN  \n",
       "3                                             Other  [12]  Woman    NaN  \n",
       "4                    Personal improvement and leisure [0]    Man    NaN  \n",
       "...                                                   ...    ...    ...  \n",
       "130103  Agriculture, natural resources and conservatio...  Woman    0.0  \n",
       "130104                                      Education [1]    Man    3.0  \n",
       "130105                                      Education [1]  Woman    0.0  \n",
       "130106  Business, management and public administration...    Man    3.0  \n",
       "130107  Business, management and public administration...  Woman    3.0  \n",
       "\n",
       "[130108 rows x 7 columns]"
      ]
     },
     "execution_count": 141,
     "metadata": {},
     "output_type": "execute_result"
    }
   ],
   "source": [
    "# Remove total gender\n",
    "updated_gender_df = df.drop(df[df['Gender'].apply(check_total)].index)\n",
    "\n",
    "# Remove total credential type\n",
    "updated_credential_df = updated_gender_df.drop(updated_gender_df[updated_gender_df['Credential type'].apply(check_total)].index)\n",
    "\n",
    "# Remove total program type\n",
    "updated_program_df = updated_credential_df.drop(updated_credential_df[updated_credential_df['Program type'].apply(check_total)].index)\n",
    "\n",
    "# Remove total institution type\n",
    "updated_institution_df = updated_program_df.drop(updated_program_df[updated_program_df['Institution type'].apply(check_total)].index)\n",
    "\n",
    "# Remove total field of study\n",
    "updated_field_df = updated_institution_df.drop(updated_institution_df[updated_institution_df['Field of study'].apply(check_total)].index)\n",
    "\n",
    "\n",
    "updated_field_df.reset_index(drop=True, inplace=True)\n",
    "\n",
    "updated_field_df"
   ]
  },
  {
   "cell_type": "markdown",
   "id": "77b8bc9e",
   "metadata": {},
   "source": [
    "## Filtering Date to Start from 2000"
   ]
  },
  {
   "cell_type": "code",
   "execution_count": 142,
   "id": "85402753",
   "metadata": {},
   "outputs": [],
   "source": [
    "df = updated_field_df[updated_field_df['Date'] >= 2000]\n",
    "df.reset_index(drop=True, inplace=True)"
   ]
  },
  {
   "cell_type": "code",
   "execution_count": 143,
   "id": "c2a6f3bd",
   "metadata": {},
   "outputs": [
    {
     "data": {
      "text/html": [
       "<div>\n",
       "<style scoped>\n",
       "    .dataframe tbody tr th:only-of-type {\n",
       "        vertical-align: middle;\n",
       "    }\n",
       "\n",
       "    .dataframe tbody tr th {\n",
       "        vertical-align: top;\n",
       "    }\n",
       "\n",
       "    .dataframe thead th {\n",
       "        text-align: right;\n",
       "    }\n",
       "</style>\n",
       "<table border=\"1\" class=\"dataframe\">\n",
       "  <thead>\n",
       "    <tr style=\"text-align: right;\">\n",
       "      <th></th>\n",
       "      <th>Date</th>\n",
       "      <th>Institution type</th>\n",
       "      <th>Program type</th>\n",
       "      <th>Credential type</th>\n",
       "      <th>Field of study</th>\n",
       "      <th>Gender</th>\n",
       "      <th>VALUE</th>\n",
       "    </tr>\n",
       "  </thead>\n",
       "  <tbody>\n",
       "    <tr>\n",
       "      <th>0</th>\n",
       "      <td>2000</td>\n",
       "      <td>University</td>\n",
       "      <td>Basic education and skills program</td>\n",
       "      <td>General Equivalency Diploma/high school diploma</td>\n",
       "      <td>Other  [12]</td>\n",
       "      <td>Man</td>\n",
       "      <td>NaN</td>\n",
       "    </tr>\n",
       "    <tr>\n",
       "      <th>1</th>\n",
       "      <td>2000</td>\n",
       "      <td>University</td>\n",
       "      <td>Basic education and skills program</td>\n",
       "      <td>General Equivalency Diploma/high school diploma</td>\n",
       "      <td>Other  [12]</td>\n",
       "      <td>Woman</td>\n",
       "      <td>NaN</td>\n",
       "    </tr>\n",
       "    <tr>\n",
       "      <th>2</th>\n",
       "      <td>2000</td>\n",
       "      <td>University</td>\n",
       "      <td>Basic education and skills program</td>\n",
       "      <td>Certificate</td>\n",
       "      <td>Other  [12]</td>\n",
       "      <td>Man</td>\n",
       "      <td>NaN</td>\n",
       "    </tr>\n",
       "    <tr>\n",
       "      <th>3</th>\n",
       "      <td>2000</td>\n",
       "      <td>University</td>\n",
       "      <td>Basic education and skills program</td>\n",
       "      <td>Certificate</td>\n",
       "      <td>Other  [12]</td>\n",
       "      <td>Woman</td>\n",
       "      <td>NaN</td>\n",
       "    </tr>\n",
       "    <tr>\n",
       "      <th>4</th>\n",
       "      <td>2000</td>\n",
       "      <td>University</td>\n",
       "      <td>Basic education and skills program</td>\n",
       "      <td>Attestation and other short program credentials</td>\n",
       "      <td>Personal improvement and leisure [0]</td>\n",
       "      <td>Man</td>\n",
       "      <td>NaN</td>\n",
       "    </tr>\n",
       "    <tr>\n",
       "      <th>...</th>\n",
       "      <td>...</td>\n",
       "      <td>...</td>\n",
       "      <td>...</td>\n",
       "      <td>...</td>\n",
       "      <td>...</td>\n",
       "      <td>...</td>\n",
       "      <td>...</td>\n",
       "    </tr>\n",
       "    <tr>\n",
       "      <th>93473</th>\n",
       "      <td>2021</td>\n",
       "      <td>College</td>\n",
       "      <td>Undergraduate program</td>\n",
       "      <td>Diploma</td>\n",
       "      <td>Agriculture, natural resources and conservatio...</td>\n",
       "      <td>Woman</td>\n",
       "      <td>0.0</td>\n",
       "    </tr>\n",
       "    <tr>\n",
       "      <th>93474</th>\n",
       "      <td>2021</td>\n",
       "      <td>College</td>\n",
       "      <td>Other programs</td>\n",
       "      <td>Certificate</td>\n",
       "      <td>Education [1]</td>\n",
       "      <td>Man</td>\n",
       "      <td>3.0</td>\n",
       "    </tr>\n",
       "    <tr>\n",
       "      <th>93475</th>\n",
       "      <td>2021</td>\n",
       "      <td>College</td>\n",
       "      <td>Other programs</td>\n",
       "      <td>Certificate</td>\n",
       "      <td>Education [1]</td>\n",
       "      <td>Woman</td>\n",
       "      <td>0.0</td>\n",
       "    </tr>\n",
       "    <tr>\n",
       "      <th>93476</th>\n",
       "      <td>2021</td>\n",
       "      <td>College</td>\n",
       "      <td>Other programs</td>\n",
       "      <td>Diploma</td>\n",
       "      <td>Business, management and public administration...</td>\n",
       "      <td>Man</td>\n",
       "      <td>3.0</td>\n",
       "    </tr>\n",
       "    <tr>\n",
       "      <th>93477</th>\n",
       "      <td>2021</td>\n",
       "      <td>College</td>\n",
       "      <td>Other programs</td>\n",
       "      <td>Diploma</td>\n",
       "      <td>Business, management and public administration...</td>\n",
       "      <td>Woman</td>\n",
       "      <td>3.0</td>\n",
       "    </tr>\n",
       "  </tbody>\n",
       "</table>\n",
       "<p>93478 rows × 7 columns</p>\n",
       "</div>"
      ],
      "text/plain": [
       "       Date Institution type                        Program type  \\\n",
       "0      2000       University  Basic education and skills program   \n",
       "1      2000       University  Basic education and skills program   \n",
       "2      2000       University  Basic education and skills program   \n",
       "3      2000       University  Basic education and skills program   \n",
       "4      2000       University  Basic education and skills program   \n",
       "...     ...              ...                                 ...   \n",
       "93473  2021          College               Undergraduate program   \n",
       "93474  2021          College                      Other programs   \n",
       "93475  2021          College                      Other programs   \n",
       "93476  2021          College                      Other programs   \n",
       "93477  2021          College                      Other programs   \n",
       "\n",
       "                                       Credential type  \\\n",
       "0      General Equivalency Diploma/high school diploma   \n",
       "1      General Equivalency Diploma/high school diploma   \n",
       "2                                          Certificate   \n",
       "3                                          Certificate   \n",
       "4      Attestation and other short program credentials   \n",
       "...                                                ...   \n",
       "93473                                          Diploma   \n",
       "93474                                      Certificate   \n",
       "93475                                      Certificate   \n",
       "93476                                          Diploma   \n",
       "93477                                          Diploma   \n",
       "\n",
       "                                          Field of study Gender  VALUE  \n",
       "0                                            Other  [12]    Man    NaN  \n",
       "1                                            Other  [12]  Woman    NaN  \n",
       "2                                            Other  [12]    Man    NaN  \n",
       "3                                            Other  [12]  Woman    NaN  \n",
       "4                   Personal improvement and leisure [0]    Man    NaN  \n",
       "...                                                  ...    ...    ...  \n",
       "93473  Agriculture, natural resources and conservatio...  Woman    0.0  \n",
       "93474                                      Education [1]    Man    3.0  \n",
       "93475                                      Education [1]  Woman    0.0  \n",
       "93476  Business, management and public administration...    Man    3.0  \n",
       "93477  Business, management and public administration...  Woman    3.0  \n",
       "\n",
       "[93478 rows x 7 columns]"
      ]
     },
     "execution_count": 143,
     "metadata": {},
     "output_type": "execute_result"
    }
   ],
   "source": [
    "df"
   ]
  },
  {
   "cell_type": "markdown",
   "id": "fbd96fd2",
   "metadata": {},
   "source": [
    "## Checking for Missing Values"
   ]
  },
  {
   "cell_type": "code",
   "execution_count": 144,
   "id": "f96ae43c",
   "metadata": {},
   "outputs": [
    {
     "data": {
      "text/plain": [
       "array([False])"
      ]
     },
     "execution_count": 144,
     "metadata": {},
     "output_type": "execute_result"
    }
   ],
   "source": [
    "df['Date'].isnull().unique()"
   ]
  },
  {
   "cell_type": "code",
   "execution_count": 145,
   "id": "19765641",
   "metadata": {},
   "outputs": [
    {
     "data": {
      "text/plain": [
       "array([False])"
      ]
     },
     "execution_count": 145,
     "metadata": {},
     "output_type": "execute_result"
    }
   ],
   "source": [
    "df['Institution type'].isnull().unique()"
   ]
  },
  {
   "cell_type": "code",
   "execution_count": 146,
   "id": "d4bb82db",
   "metadata": {},
   "outputs": [
    {
     "data": {
      "text/plain": [
       "array([False])"
      ]
     },
     "execution_count": 146,
     "metadata": {},
     "output_type": "execute_result"
    }
   ],
   "source": [
    "df['Program type'].isnull().unique()"
   ]
  },
  {
   "cell_type": "code",
   "execution_count": 147,
   "id": "8523d058",
   "metadata": {},
   "outputs": [
    {
     "data": {
      "text/plain": [
       "array([False])"
      ]
     },
     "execution_count": 147,
     "metadata": {},
     "output_type": "execute_result"
    }
   ],
   "source": [
    "df['Credential type'].isnull().unique()"
   ]
  },
  {
   "cell_type": "code",
   "execution_count": 148,
   "id": "df03dd37",
   "metadata": {},
   "outputs": [
    {
     "data": {
      "text/plain": [
       "array([False])"
      ]
     },
     "execution_count": 148,
     "metadata": {},
     "output_type": "execute_result"
    }
   ],
   "source": [
    "df['Field of study'].isnull().unique()"
   ]
  },
  {
   "cell_type": "code",
   "execution_count": 149,
   "id": "9cf29726",
   "metadata": {},
   "outputs": [
    {
     "data": {
      "text/plain": [
       "array([False])"
      ]
     },
     "execution_count": 149,
     "metadata": {},
     "output_type": "execute_result"
    }
   ],
   "source": [
    "df['Gender'].isnull().unique()"
   ]
  },
  {
   "cell_type": "code",
   "execution_count": 160,
   "id": "8b8c3c58",
   "metadata": {},
   "outputs": [
    {
     "data": {
      "text/plain": [
       "34452"
      ]
     },
     "execution_count": 160,
     "metadata": {},
     "output_type": "execute_result"
    }
   ],
   "source": [
    "df['VALUE'].isna().sum()"
   ]
  },
  {
   "cell_type": "markdown",
   "id": "782fe0c1",
   "metadata": {},
   "source": [
    "## "
   ]
  },
  {
   "cell_type": "markdown",
   "id": "358c171c",
   "metadata": {},
   "source": [
    "## Export the updated dataframe to CSV"
   ]
  },
  {
   "cell_type": "code",
   "execution_count": 161,
   "id": "c1694639",
   "metadata": {},
   "outputs": [],
   "source": [
    "# updated_df.to_csv('graduates.csv', index=False)"
   ]
  }
 ],
 "metadata": {
  "kernelspec": {
   "display_name": "Python 3 (ipykernel)",
   "language": "python",
   "name": "python3"
  },
  "language_info": {
   "codemirror_mode": {
    "name": "ipython",
    "version": 3
   },
   "file_extension": ".py",
   "mimetype": "text/x-python",
   "name": "python",
   "nbconvert_exporter": "python",
   "pygments_lexer": "ipython3",
   "version": "3.9.13"
  }
 },
 "nbformat": 4,
 "nbformat_minor": 5
}
